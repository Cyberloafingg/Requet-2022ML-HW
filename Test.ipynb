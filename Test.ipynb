{
 "cells": [
  {
   "cell_type": "markdown",
   "source": [
    "# 1. 数据处理\n",
    "## 1.1 对于txt数据的处理\n",
    "1. 处理txt：每100ms上报一个数据，每个数据包含多个字段，详见论文的APPENDIXES B – DATASET INFO；但我们用得到的主要就是以下3个字段：EpochTime\\BufferHealth\\PlaybackQuality\n",
    "\n",
    "2. | Relative Time| Packets Sent |Packets Sent|Bytes Sent|Bytes Received|[NetworkInfo N]|[Playback Info]\n",
    "| --- | --- |---|\n",
    "|相对时间标志着间隔的结束| 1|1|1|1| 7x26|4+4+9+3\n",
    "\n",
    "3. 其中`NetworkInfo N`中包含7和字段，一共有26组\n",
    "4. `Playback Info`中有4+4+9+3个字段，是我们需要注意的分类标签"
   ],
   "metadata": {
    "collapsed": false
   }
  },
  {
   "cell_type": "code",
   "execution_count": 9,
   "outputs": [],
   "source": [
    "import glob\n",
    "\n",
    "import numpy as np\n",
    "import pandas as pd\n",
    "import os"
   ],
   "metadata": {
    "collapsed": false
   }
  },
  {
   "cell_type": "markdown",
   "source": [
    "## 清理原始数据"
   ],
   "metadata": {
    "collapsed": false
   }
  },
  {
   "cell_type": "code",
   "execution_count": 10,
   "outputs": [],
   "source": [
    "# 清理原始数据\n",
    "# 规范：全局变量使用首字母大写\n",
    "Dataset_List = ['A0', 'A1', 'A2', 'A3']\n",
    "Datasets_Folder = \"RequetDataSetNew\"\n",
    "Data_Num_In_Folder = {\n",
    "    'A0':95,\n",
    "    'A1':130,\n",
    "    'A2':91,\n",
    "    'A3':119\n",
    "}\n",
    "Label_Folder = \"LabelDataSet\"\n",
    "\n",
    "for datasets in Dataset_List:\n",
    "    dataset_folder = f'{Datasets_Folder}/{datasets}/MERGED_FILES/'\n",
    "    files = glob.glob(dataset_folder + '*.csv')\n",
    "    for file in files:\n",
    "        # print(file)\n",
    "        os.remove(file)"
   ],
   "metadata": {
    "collapsed": false
   }
  },
  {
   "cell_type": "code",
   "execution_count": 5,
   "outputs": [
    {
     "name": "stdout",
     "output_type": "stream",
     "text": [
      "Succeed to construct COL:207\n"
     ]
    }
   ],
   "source": [
    "# 构建前五个col\n",
    "COLS = ['RelativeTime', 'PacketsSent', 'PacketsReceived', 'BytesSent', 'BytesReceived']\n",
    "Network_Info_Num = 26 # 一共26个NetworkINFO\n",
    "for i in range(0, Network_Info_Num):\n",
    "    ss = str(i)\n",
    "    Network_Info = ['IPSrc' + ss,\n",
    "                    'IPDst' + ss,\n",
    "                    'Protocol' + ss,\n",
    "                    'PacketsSent' + ss,\n",
    "                    'PacketsReceived' + ss,\n",
    "                    'BytesSent' + ss,\n",
    "                    'BytesReceived' + ss]\n",
    "    COLS.extend(Network_Info)\n",
    "COLS.extend(['Buffering', 'Paused', 'Playing', 'CollectData']);\n",
    "COLS.extend(['EpochTime','StartTime', 'PlaybackProgress', 'Length']);\n",
    "COLS.extend(['UnlabelledQuality', 'q144p', 'q240p','q360p', 'q480p', 'q720p', 'q1080p', 'q1440p', 'q2160p']);\n",
    "COLS.extend(['BufferHealth', 'BufferProgress', 'BufferValid'])\n",
    "# 验证构建正确性\n",
    "TARGET_NUM_COLS = 5 + 7 * 26 + (4 + 4 + 9 + 3)\n",
    "if len(COLS) != TARGET_NUM_COLS:\n",
    "    raise Exception(f\"Error number of columns {len(COLS)}, targat columns is {TARGET_NUM_COLS} \")\n",
    "else:\n",
    "    print(f\"Succeed to construct COL:{len(COLS)}\")\n"
   ],
   "metadata": {
    "collapsed": false
   }
  },
  {
   "cell_type": "markdown",
   "source": [
    "## 1.2 加载txt"
   ],
   "metadata": {
    "collapsed": false
   }
  },
  {
   "cell_type": "code",
   "execution_count": 87,
   "outputs": [],
   "source": [
    "import concurrent.futures\n",
    "MAX_WORKERS = 20\n",
    "def Conactenat(file):\n",
    "    csv_filename = f\"{Label_Folder}/{datasets}/{os.path.split(file)[1]}\".split('.')[0] + \".csv\"\n",
    "    # print(csv_filename)\n",
    "    origin_file = open(file, \"rt\")\n",
    "    csv_file = open(csv_filename, \"wt\")\n",
    "    for line in origin_file:\n",
    "        csv_file.write(line.replace('[', '').replace(']', ''))\n",
    "    origin_file.close()\n",
    "    csv_file.close()\n",
    "    df = pd.read_csv(csv_filename, header=None, low_memory=False)\n",
    "    df.columns = 207\n",
    "    df.to_csv(csv_filename, index=False)\n",
    "    # percent = round(1.0 * i / total * 100,2)\n",
    "    # print(f'Concatenating{datasets} : {str(percent)}% ,[{i}/{total}]',end='\\r')\n",
    "    # i = i + 1"
   ],
   "metadata": {
    "collapsed": false
   }
  },
  {
   "cell_type": "code",
   "execution_count": 6,
   "outputs": [
    {
     "name": "stdout",
     "output_type": "stream",
     "text": [
      "Folder : RequetDataSetNew/A0/MERGED_FILES/ , File Num : 95\n",
      "******Concatenated All Folder!*******\n",
      "Use 35.65719985961914s\n"
     ]
    }
   ],
   "source": [
    "### 等会删掉\n",
    "import time\n",
    "Dataset_List = ['A0']\n",
    "###\n",
    "start = time.time()\n",
    "for datasets in Dataset_List:\n",
    "    dataset_folder = f'{Datasets_Folder}/{datasets}/MERGED_FILES/'\n",
    "    files = glob.glob(dataset_folder + '*_*_merged.txt')\n",
    "    if len(files) != Data_Num_In_Folder[datasets]:\n",
    "        raise Exception(f\"Error File Num,Please Check Folder :{dataset_folder}\")\n",
    "    else:\n",
    "        print(f\"Folder : {dataset_folder} , File Num : {len(files)}\")\n",
    "    i = 1\n",
    "    os.system(f\"md {Label_Folder}\\\\{datasets}\")\n",
    "    total = len(files)\n",
    "    for file in files:\n",
    "        csv_filename = f\"{Label_Folder}/{datasets}/{os.path.split(file)[1]}\".split('.')[0] + \".csv\"\n",
    "        # print(csv_filename)\n",
    "        origin_file = open(file, \"rt\")\n",
    "        csv_file = open(csv_filename, \"wt\")\n",
    "        for line in origin_file:\n",
    "            csv_file.write(line.replace('[', '').replace(']', ''))\n",
    "        origin_file.close()\n",
    "        csv_file.close()\n",
    "        df = pd.read_csv(csv_filename, header=None, low_memory=False)\n",
    "        df.columns = COLS\n",
    "        # print(\"Concatenating (\", i, \"/\", len(files), \"): \", file)\n",
    "        df.to_csv(csv_filename, index=False)\n",
    "        percent = round(1.0 * i / total * 100,2)\n",
    "        print(f'Concatenating{datasets} : {str(percent)}% ,[{i}/{total}]',end='\\r')\n",
    "        i = i + 1\n",
    "print(\"******Concatenated All Folder!*******\")\n",
    "end = time.time()\n",
    "print(f\"Use {end - start}s\")\n"
   ],
   "metadata": {
    "collapsed": false
   }
  },
  {
   "cell_type": "code",
   "execution_count": 170,
   "outputs": [],
   "source": [
    "# ['Stall', 'Steady State', 'Buffer Decay', 'Buffer Increase']状态对照表\n",
    "def smooth_status(status_origin, m_t):\n",
    "    # print(\"SMOOTH\")\n",
    "    status_smooth = status_origin.copy()\n",
    "    now_index = 0\n",
    "    # last_index = 0\n",
    "    while now_index < len(status_smooth):\n",
    "        if status_smooth[now_index] == 0:\n",
    "            last_index = now_index\n",
    "            end = min(len(status_smooth), now_index + MinTime_stall * 10 + 1) # 找到在其后面MinTimeStall的所有status\n",
    "            for j in range(now_index + 1, end):\n",
    "                if status_smooth[j] == 0:\n",
    "                    last_index = j\n",
    "            for j in range(now_index + 1, last_index + 1):\n",
    "                status_smooth[j] = 0\n",
    "            if last_index != now_index:\n",
    "                now_index = last_index\n",
    "            else:\n",
    "                now_index = now_index + 1\n",
    "        else:\n",
    "            now_index = now_index + 1\n",
    "\n",
    "    now_index = 0\n",
    "    while now_index < len(status_smooth):\n",
    "        if status_smooth[now_index] == 1:\n",
    "            last_index = now_index\n",
    "            end = min(len(status_smooth), now_index + MinTime_stall * 10 + 1)\n",
    "            for j in range(now_index + 1, end):\n",
    "                if status_smooth[j] == 1:\n",
    "                    last_index = j\n",
    "            for j in range(now_index + 1, last_index + 1):\n",
    "                status_smooth[j] = 1\n",
    "            if last_index != now_index:\n",
    "                now_index = last_index\n",
    "            else:\n",
    "                now_index = now_index + 1\n",
    "        else:\n",
    "            now_index = now_index + 1\n",
    "\n",
    "    num = [0 for _ in range(len(status_smooth))]\n",
    "    num[0] = 1\n",
    "    for now_index in range(1, len(status_smooth)):\n",
    "        if status_smooth[now_index] == 1:\n",
    "            if status_smooth[now_index - 1] == 1:\n",
    "                num[now_index] = num[now_index - 1] + 1\n",
    "            else:\n",
    "                num[now_index] = 1\n",
    "                if num[now_index - 1] <= Thr_ss * 10:\n",
    "                    for j in range(now_index - 1, -1, -1):\n",
    "                        if status_smooth[j] == 1:\n",
    "                            status_smooth[j] = 3 if m_t[j] >= 0 else 2\n",
    "                            print(\"change\")\n",
    "                        else:\n",
    "                            break\n",
    "    return status_smooth"
   ],
   "metadata": {
    "collapsed": false
   }
  },
  {
   "cell_type": "code",
   "execution_count": 204,
   "outputs": [],
   "source": [
    "Dataset_List = ['A0', 'A1', 'A2', 'A3']\n",
    "for datasets in Dataset_List:\n",
    "    dataset_folder = f'{Label_Folder}/{datasets}/'\n",
    "    files = glob.glob(dataset_folder + '*_label.csv')\n",
    "    for file in files:\n",
    "        # print(file)\n",
    "        os.remove(file)"
   ],
   "metadata": {
    "collapsed": false
   }
  },
  {
   "cell_type": "code",
   "execution_count": 8,
   "outputs": [
    {
     "ename": "NameError",
     "evalue": "name 'time' is not defined",
     "output_type": "error",
     "traceback": [
      "\u001B[1;31m---------------------------------------------------------------------------\u001B[0m",
      "\u001B[1;31mNameError\u001B[0m                                 Traceback (most recent call last)",
      "Cell \u001B[1;32mIn [8], line 21\u001B[0m\n\u001B[0;32m     19\u001B[0m Buff_ss \u001B[38;5;241m=\u001B[39m \u001B[38;5;241m10\u001B[39m\n\u001B[0;32m     20\u001B[0m BuffWarningThresh \u001B[38;5;241m=\u001B[39m \u001B[38;5;241m20\u001B[39m\n\u001B[1;32m---> 21\u001B[0m start \u001B[38;5;241m=\u001B[39m time\u001B[38;5;241m.\u001B[39mtime()\n\u001B[0;32m     22\u001B[0m \u001B[38;5;28;01mfor\u001B[39;00m datasets \u001B[38;5;129;01min\u001B[39;00m Dataset_List:\n\u001B[0;32m     23\u001B[0m     dataset_folder \u001B[38;5;241m=\u001B[39m \u001B[38;5;124mf\u001B[39m\u001B[38;5;124m'\u001B[39m\u001B[38;5;132;01m{\u001B[39;00mLabel_Folder\u001B[38;5;132;01m}\u001B[39;00m\u001B[38;5;124m/\u001B[39m\u001B[38;5;132;01m{\u001B[39;00mdatasets\u001B[38;5;132;01m}\u001B[39;00m\u001B[38;5;124m/\u001B[39m\u001B[38;5;124m'\u001B[39m \u001B[38;5;66;03m# 寻找到已经存为CSV的文件夹，在test_data下\u001B[39;00m\n",
      "\u001B[1;31mNameError\u001B[0m: name 'time' is not defined"
     ]
    }
   ],
   "source": [
    "import numpy as np\n",
    " ### 等会删掉\n",
    "Dataset_List = ['A0']\n",
    "###\n",
    "\n",
    "Sum = 0\n",
    "Num = [0 for _ in range(0, 4)]\n",
    "\n",
    "MinTime_stall = 10\n",
    "Thr_ss = 15\n",
    "Resolution_List = ['q144p', 'q240p', 'q360p', 'q480p', 'q720p', 'q1080p', 'q1440p', 'q2160p']\n",
    "Status_List = ['Stall', 'Steady State', 'Buffer Decay', 'Buffer Increase']\n",
    "\n",
    "Stall_Threshold = 0.08\n",
    "Delta = 0.0001\n",
    "Epsilon = 0.15\n",
    "T_smooth = 15\n",
    "T_slope = 5\n",
    "Buff_ss = 10\n",
    "BuffWarningThresh = 20\n",
    "start = time.time()\n",
    "for datasets in Dataset_List:\n",
    "    dataset_folder = f'{Label_Folder}/{datasets}/' # 寻找到已经存为CSV的文件夹，在test_data下\n",
    "    files = glob.glob(dataset_folder + '*_merged.csv')\n",
    "    files = files[0:1]\n",
    "    for file in files:\n",
    "        file_id = file.split('.')[0]\n",
    "        df = pd.read_csv(file,low_memory=False)\n",
    "        hat_b = {}\n",
    "        m = []\n",
    "        status = []\n",
    "        array_label=[]\n",
    "        ## 要使用的存储df\n",
    "        numpy_RelativeTime = np.array(df['RelativeTime'])\n",
    "        numpy_BufferHealth = np.array(df['BufferHealth'])\n",
    "        numpy_BufferValid = np.array(df[\"BufferValid\"])\n",
    "        numpy_EpochTime = np.array(df[\"EpochTime\"])\n",
    "        numpy_Resolution = np.array(df[Resolution_List])\n",
    "        for i in numpy_RelativeTime:\n",
    "            # print(i)\n",
    "            # print(numpy_BufferHealth[(numpy_row >= (i- T_smooth - Delta)) & (numpy_row <= (i+ T_smooth + Delta))])\n",
    "            hat_b[round(i * 10) / 10]=np.median(numpy_BufferHealth[(numpy_RelativeTime >= (i - T_smooth - Delta)) & (numpy_RelativeTime <= (i + T_smooth + Delta))])\n",
    "        # # # print(df['RelativeTime'])\n",
    "        # # for index, row in df.iterrows(): # 遍历行\n",
    "        # #     hat_b[round(row['RelativeTime'] * 10) / 10] = df[(df['RelativeTime'] >= row['RelativeTime'] - T_smooth - Delta) & (\n",
    "        # #             df['RelativeTime'] <= row['RelativeTime'] + T_smooth + Delta)].BufferHealth.median()\n",
    "        maxTime = round(numpy_RelativeTime.max() * 10) / 10 # df的最后一个relativeTime的值\n",
    "        for i in range(len(numpy_RelativeTime)):\n",
    "            if numpy_BufferValid[i] == \"-1\":\n",
    "                continue\n",
    "            if i > 0:\n",
    "                if numpy_EpochTime[i] == numpy_EpochTime[i-1] or 0 == numpy_EpochTime[i-1]:\n",
    "                    continue\n",
    "            new_row=[]\n",
    "            new_row.append(numpy_EpochTime[i])\n",
    "            t = numpy_RelativeTime[i]\n",
    "            t_slope_1 = round((t + T_slope) * 10) / 10\n",
    "            t_slope_2 = round((t - T_slope) * 10) / 10\n",
    "            # 将t_slope卡在[0,maxTime]之间\n",
    "            if t_slope_1 > maxTime:\n",
    "                t_slope_1 = maxTime\n",
    "            if t_slope_2 < 0:\n",
    "                t_slope_2 = 0\n",
    "            Resolution = 0\n",
    "            for j in range(len(Resolution_List)):\n",
    "                if numpy_Resolution[i,j] == 1:\n",
    "                    Resolution = j\n",
    "                    break\n",
    "            mt = (hat_b[t_slope_1] - hat_b[t_slope_2]) / (t_slope_1 - t_slope_2)\n",
    "            m.append(mt)\n",
    "            b_t = numpy_BufferHealth[i]\n",
    "\n",
    "            # BuffWarningThresh 以20作为分类标准 第71:6页\n",
    "            if b_t < BuffWarningThresh:\n",
    "                new_row.append(1)\n",
    "                # np.append(new_row,1)\n",
    "            else:\n",
    "                new_row.append(0)\n",
    "            if b_t < Stall_Threshold:\n",
    "                state = 0\n",
    "            elif -Epsilon <= mt <= Epsilon and b_t > Buff_ss:\n",
    "                state = 1\n",
    "            elif mt < 0:\n",
    "                state = 2\n",
    "            else:\n",
    "                state = 3\n",
    "            Sum = Sum + 1\n",
    "            Num[state] = Num[state] + 1\n",
    "            new_row.append(state)\n",
    "            status.append(state)\n",
    "            new_row.append(Resolution)\n",
    "            # df_new.loc[len(df_new)] = new_row\n",
    "            array_label.append(new_row)\n",
    "\n",
    "        df_new = pd.DataFrame(array_label,columns=[\"EpochTime\",  \"BuffWarning\", \"status\", \"Resolution\"])\n",
    "        # start = time.time()\n",
    "        # status = smooth_status(status, m)\n",
    "        # end = time.time()\n",
    "        # df_new['status'] = status\n",
    "        print(df_new.iloc[1150:1155])\n",
    "        # # df_new['BuffWarning'] = BuffWarnings\n",
    "        # # df_new['Resolution'] = Resolutions\n",
    "        # # print(df_new)\n",
    "        # df_new.to_csv(file_id + '_label.csv', index=None, header=True)\n",
    "        print(file_id + '_tag.csv')\n",
    "\n",
    "print(f\"Use {end - start}s\")"
   ],
   "metadata": {
    "collapsed": false
   }
  },
  {
   "cell_type": "code",
   "execution_count": 202,
   "outputs": [
    {
     "data": {
      "text/plain": "<matplotlib.legend.Legend at 0x1d4ddecde50>"
     },
     "execution_count": 202,
     "metadata": {},
     "output_type": "execute_result"
    },
    {
     "data": {
      "text/plain": "<Figure size 640x480 with 1 Axes>",
      "image/png": "[encoded data removed]"
     },
     "metadata": {},
     "output_type": "display_data"
    }
   ],
   "source": [
    "import matplotlib.pyplot as plt\n",
    "# Status_List = ['Stall', 'Steady State', 'Buffer Decay', 'Buffer Increase']\n",
    "plt.plot(m,label='m_t')\n",
    "plt.plot(status,label='state')\n",
    "plt.plot(df_new[\"BuffWarning\"],label='BuffWarning')\n",
    "plt.legend()"
   ],
   "metadata": {
    "collapsed": false
   }
  },
  {
   "cell_type": "code",
   "execution_count": 152,
   "outputs": [
    {
     "name": "stdout",
     "output_type": "stream",
     "text": [
      "600.9\n",
      "          EpochTime  BuffWarning  status  Resolution\n",
      "1150  1516209742696            0       1           4\n",
      "1151  1516209742796            0       1           4\n",
      "1152  1516209742896            0       1           4\n",
      "1153  1516209742995            0       1           4\n",
      "1154  1516209743096            0       1           4\n",
      "Use 7.4486236572265625s\n"
     ]
    }
   ],
   "source": [
    "import numpy as np\n",
    " ### 等会删掉\n",
    "Dataset_List = ['A0']\n",
    "###\n",
    "\n",
    "\n",
    "Sum = 0\n",
    "Num = [0 for _ in range(0, 4)]\n",
    "\n",
    "MinTime_stall = 10\n",
    "Thr_ss = 15\n",
    "Resolution_List = ['q144p', 'q240p', 'q360p', 'q480p', 'q720p', 'q1080p', 'q1440p', 'q2160p']\n",
    "Status_List = ['Stall', 'Steady State', 'Buffer Decay', 'Buffer Increase']\n",
    "\n",
    "Stall_Threshold = 0.08\n",
    "Delta = 0.0001\n",
    "Epsilon = 0.15\n",
    "T_smooth = 15\n",
    "T_slope = 5\n",
    "Buff_ss = 10\n",
    "BuffWarningThresh = 20\n",
    "start = time.time()\n",
    "for datasets in Dataset_List:\n",
    "    dataset_folder = f'{Label_Folder}/{datasets}/' # 寻找到已经存为CSV的文件夹，在test_data下\n",
    "    files = glob.glob(dataset_folder + '*.csv')\n",
    "    files = files[0:1]\n",
    "    for file in files:\n",
    "        file_id = file.split('.')[0]\n",
    "        df = pd.read_csv(file,low_memory=False)\n",
    "        df_new = pd.DataFrame(columns=[\"EpochTime\",  \"BuffWarning\", \"status\", \"Resolution\"])\n",
    "        # Stall_Threshold = 0.08 #delta\n",
    "        # Delta = 0.0001\n",
    "        # Epsilon = 0.15\n",
    "        # T_smooth = 15\n",
    "        # T_slope = 5\n",
    "        # Buff_ss = 10\n",
    "        # BuffWarningThresh = 20\n",
    "        hat_b = {}\n",
    "        m = []\n",
    "        status = []\n",
    "        ## 要使用的存储df\n",
    "        numpy_Resolution = np.array(df[Resolution_List])\n",
    "        for i in numpy_RelativeTime:\n",
    "            hat_b[round(i * 10) / 10]=np.median(numpy_BufferHealth[(numpy_RelativeTime >= (i - T_smooth - Delta)) & (numpy_RelativeTime <= (i + T_smooth + Delta))])\n",
    "        maxTime = round(numpy_RelativeTime.max() * 10) / 10 # df的最后一个relativeTime的值\n",
    "        for index, row in df.iterrows():\n",
    "            if row[\"BufferValid\"] == \"-1\":\n",
    "                continue\n",
    "            if index > 0:\n",
    "                if row[\"EpochTime\"] == df.iloc[index - 1][\"EpochTime\"] or 0 == df.iloc[index - 1][\"EpochTime\"]:\n",
    "                    continue\n",
    "            new_row = [row[\"EpochTime\"]]\n",
    "            t = round(row['RelativeTime'] * 10) / 10\n",
    "            t_slope_1 = round((t + T_slope) * 10) / 10\n",
    "            t_slope_2 = round((t - T_slope) * 10) / 10\n",
    "\n",
    "            if t_slope_1 > maxTime:\n",
    "                t_slope_1 = maxTime\n",
    "            if t_slope_2 < 0:\n",
    "                t_slope_2 = 0\n",
    "        #     # print(t_slope_1, t_slope_2)\n",
    "            Resolution = 0\n",
    "            for i in range(len(Resolution_List)):\n",
    "                if row[Resolution_List[i]] == 1:\n",
    "                    Resolution = i\n",
    "                    break\n",
    "        #     # Resolutions.append(Resolution)\n",
    "            # 计算mt\n",
    "            mt = (hat_b[t_slope_1] - hat_b[t_slope_2]) / (t_slope_1 - t_slope_2)\n",
    "            m.append(mt)\n",
    "            b_t = row['BufferHealth']\n",
    "\n",
    "            # BuffWarningThresh 以20作为分类标准 第71:6页\n",
    "            if b_t < BuffWarningThresh:\n",
    "                new_row.append(1)\n",
    "            else:\n",
    "                new_row.append(0)\n",
    "            if b_t < Stall_Threshold:\n",
    "                state = 0\n",
    "            elif -Epsilon <= mt <= Epsilon and b_t > Buff_ss:\n",
    "                state = 1\n",
    "            elif mt < 0:\n",
    "                state = 2\n",
    "            else:\n",
    "                state = 3\n",
    "            Sum = Sum + 1\n",
    "            Num[state] = Num[state] + 1\n",
    "            new_row.append(state)\n",
    "            status.append(state)\n",
    "            new_row.append(Resolution)\n",
    "            df_new.loc[len(df_new)] = new_row\n",
    "        status = smooth_status(status, m)\n",
    "        df_new['status'] = status\n",
    "        print(df_new.iloc[1150:1155])\n",
    "        # # df_new['BuffWarning'] = BuffWarnings\n",
    "        # # df_new['Resolution'] = Resolutions\n",
    "        # # print(df_new)\n",
    "        # df_new.to_csv(file_id + '_label.csv', index=None, header=True)\n",
    "        # print(file_id + '_tag.csv')\n",
    "end = time.time()\n",
    "print(f\"Use {end - start}s\")"
   ],
   "metadata": {
    "collapsed": false
   }
  },
  {
   "cell_type": "code",
   "execution_count": 31,
   "outputs": [
    {
     "name": "stdout",
     "output_type": "stream",
     "text": [
      "LabelDataSet/A0\\baseline_Jan17_exp_31_merged_label.csv\n",
      "LabelDataSet/A0\\baseline_Jan17_exp_34_merged_label.csv\n",
      "LabelDataSet/A0\\baseline_Jan17_exp_41_merged_label.csv\n",
      "LabelDataSet/A0\\baseline_Jan17_exp_45_merged_label.csv\n",
      "LabelDataSet/A0\\baseline_Jan17_exp_47_merged_label.csv\n",
      "LabelDataSet/A0\\baseline_Jan17_exp_55_merged_label.csv\n",
      "LabelDataSet/A0\\baseline_Jan17_exp_59_merged_label.csv\n",
      "LabelDataSet/A0\\baseline_Mar01_exp_71_merged_label.csv\n",
      "LabelDataSet/A0\\baseline_Mar01_exp_74_merged_label.csv\n",
      "LabelDataSet/A0\\baseline_Mar01_exp_81_merged_label.csv\n",
      "LabelDataSet/A0\\baseline_Mar01_exp_85_merged_label.csv\n",
      "LabelDataSet/A0\\baseline_Mar01_exp_87_merged_label.csv\n",
      "LabelDataSet/A0\\baseline_Mar01_exp_96_merged_label.csv\n",
      "LabelDataSet/A0\\baseline_Mar01_exp_99_merged_label.csv\n",
      "LabelDataSet/A0\\baseline_Mar02_exp_71_merged_label.csv\n",
      "LabelDataSet/A0\\baseline_Mar02_exp_74_merged_label.csv\n",
      "LabelDataSet/A0\\baseline_Mar02_exp_81_merged_label.csv\n",
      "LabelDataSet/A0\\baseline_Mar02_exp_85_merged_label.csv\n",
      "LabelDataSet/A0\\baseline_Mar02_exp_96_merged_label.csv\n",
      "LabelDataSet/A0\\baseline_Mar02_exp_99_merged_label.csv\n",
      "LabelDataSet/A0\\baseline_Mar05_exp_31_merged_label.csv\n",
      "LabelDataSet/A0\\baseline_Mar05_exp_34_merged_label.csv\n",
      "LabelDataSet/A0\\baseline_Mar05_exp_41_merged_label.csv\n",
      "LabelDataSet/A0\\baseline_Mar05_exp_45_merged_label.csv\n",
      "LabelDataSet/A0\\baseline_Mar05_exp_47_merged_label.csv\n",
      "LabelDataSet/A0\\baseline_Mar05_exp_56_merged_label.csv\n",
      "LabelDataSet/A0\\baseline_Mar05_exp_59_merged_label.csv\n",
      "LabelDataSet/A0\\baseline_Mar06_exp_111_merged_label.csv\n",
      "LabelDataSet/A0\\baseline_Mar06_exp_121_merged_label.csv\n",
      "LabelDataSet/A0\\baseline_Mar06_exp_125_merged_label.csv\n",
      "LabelDataSet/A0\\baseline_Mar06_exp_135_merged_label.csv\n",
      "LabelDataSet/A0\\baseline_Mar06_exp_136_merged_label.csv\n",
      "LabelDataSet/A0\\baseline_Mar06_exp_139_merged_label.csv\n",
      "LabelDataSet/A0\\baseline_Mar15_exp_151_merged_label.csv\n",
      "LabelDataSet/A0\\baseline_Mar15_exp_154_merged_label.csv\n",
      "LabelDataSet/A0\\baseline_Mar15_exp_161_merged_label.csv\n",
      "LabelDataSet/A0\\baseline_Mar15_exp_165_merged_label.csv\n",
      "LabelDataSet/A0\\baseline_Mar15_exp_167_merged_label.csv\n",
      "LabelDataSet/A0\\baseline_Mar15_exp_175_merged_label.csv\n",
      "LabelDataSet/A0\\baseline_Mar15_exp_176_merged_label.csv\n",
      "LabelDataSet/A0\\baseline_Mar15_exp_179_merged_label.csv\n",
      "LabelDataSet/A0\\baseline_Mar16_exp_191_merged_label.csv\n",
      "LabelDataSet/A0\\baseline_Mar16_exp_194_merged_label.csv\n",
      "LabelDataSet/A0\\baseline_Mar16_exp_201_merged_label.csv\n",
      "LabelDataSet/A0\\baseline_Mar16_exp_205_merged_label.csv\n",
      "LabelDataSet/A0\\baseline_Mar16_exp_207_merged_label.csv\n",
      "LabelDataSet/A0\\baseline_Mar16_exp_215_merged_label.csv\n",
      "LabelDataSet/A0\\baseline_Mar16_exp_216_merged_label.csv\n",
      "LabelDataSet/A0\\baseline_Mar16_exp_219_merged_label.csv\n",
      "LabelDataSet/A0\\baseline_Mar19_exp_231_merged_label.csv\n",
      "LabelDataSet/A0\\baseline_Mar19_exp_234_merged_label.csv\n",
      "LabelDataSet/A0\\baseline_Mar19_exp_245_merged_label.csv\n",
      "LabelDataSet/A0\\baseline_Mar19_exp_247_merged_label.csv\n",
      "LabelDataSet/A0\\baseline_Mar19_exp_255_merged_label.csv\n",
      "LabelDataSet/A0\\baseline_Mar19_exp_256_merged_label.csv\n",
      "LabelDataSet/A0\\baseline_Mar19_exp_259_merged_label.csv\n",
      "LabelDataSet/A0\\baseline_Mar20_exp_111_merged_label.csv\n",
      "LabelDataSet/A0\\baseline_Mar20_exp_114_merged_label.csv\n",
      "LabelDataSet/A0\\baseline_Mar20_exp_121_merged_label.csv\n",
      "LabelDataSet/A0\\baseline_Mar20_exp_125_merged_label.csv\n",
      "LabelDataSet/A0\\baseline_Mar20_exp_127_merged_label.csv\n",
      "LabelDataSet/A0\\baseline_Mar20_exp_135_merged_label.csv\n",
      "LabelDataSet/A0\\baseline_Mar20_exp_136_merged_label.csv\n",
      "LabelDataSet/A0\\baseline_Mar20_exp_139_merged_label.csv\n",
      "LabelDataSet/A0\\baseline_Mar21_exp_31_merged_label.csv\n",
      "LabelDataSet/A0\\baseline_Mar21_exp_34_merged_label.csv\n",
      "LabelDataSet/A0\\baseline_Mar22_exp_31_merged_label.csv\n",
      "LabelDataSet/A0\\baseline_Mar22_exp_34_merged_label.csv\n",
      "LabelDataSet/A0\\baseline_Mar22_exp_41_merged_label.csv\n",
      "LabelDataSet/A0\\baseline_Mar22_exp_45_merged_label.csv\n",
      "LabelDataSet/A0\\baseline_Mar22_exp_55_merged_label.csv\n",
      "LabelDataSet/A0\\baseline_Mar22_exp_56_merged_label.csv\n",
      "LabelDataSet/A0\\baseline_Mar22_exp_59_merged_label.csv\n",
      "LabelDataSet/A0\\movement_Apr03_exp_81_merged_label.csv\n",
      "LabelDataSet/A0\\movement_Apr05_exp_85_merged_label.csv\n",
      "LabelDataSet/A0\\movement_Apr05_exp_87_merged_label.csv\n",
      "LabelDataSet/A0\\movement_Apr10_exp_95_merged_label.csv\n",
      "LabelDataSet/A0\\movement_Apr12_exp_99_merged_label.csv\n",
      "LabelDataSet/A0\\movement_Apr17_exp_111_merged_label.csv\n",
      "LabelDataSet/A0\\movement_Apr17_exp_121_merged_label.csv\n",
      "LabelDataSet/A0\\movement_Apr17_exp_125_merged_label.csv\n",
      "LabelDataSet/A0\\movement_Apr17_exp_127_merged_label.csv\n",
      "LabelDataSet/A0\\movement_Apr20_exp_135_merged_label.csv\n",
      "LabelDataSet/A0\\movement_Apr24_exp_139_merged_label.csv\n",
      "LabelDataSet/A0\\movement_Apr27_exp_151_merged_label.csv\n",
      "LabelDataSet/A0\\movement_Apr27_exp_154_merged_label.csv\n",
      "LabelDataSet/A0\\movement_Jan17_exp_31_merged_label.csv\n",
      "LabelDataSet/A0\\movement_Jan17_exp_34_merged_label.csv\n",
      "LabelDataSet/A0\\movement_Jan17_exp_41_merged_label.csv\n",
      "LabelDataSet/A0\\movement_Jan17_exp_45_merged_label.csv\n",
      "LabelDataSet/A0\\movement_Jan17_exp_47_merged_label.csv\n",
      "LabelDataSet/A0\\movement_Jan17_exp_55_merged_label.csv\n",
      "LabelDataSet/A0\\movement_Jan17_exp_56_merged_label.csv\n",
      "LabelDataSet/A0\\movement_Jan17_exp_59_merged_label.csv\n",
      "LabelDataSet/A0\\movement_Mar20_exp_71_merged_label.csv\n"
     ]
    }
   ],
   "source": [
    "[1516209721996, 0, 1, 4]\n",
    "[1516209722097, 0, 1, 4]\n",
    "[1516209722197, 0, 1, 4]\n",
    "[1516209722297, 0, 1, 4]\n",
    "[1516209722397, 0, 1, 4]"
   ],
   "metadata": {
    "collapsed": false
   }
  },
  {
   "cell_type": "code",
   "execution_count": 122,
   "outputs": [],
   "source": [
    "df = pd.read_csv(file,low_memory=False)\n",
    "df = df.iloc[0:5]"
   ],
   "metadata": {
    "collapsed": false
   }
  },
  {
   "cell_type": "code",
   "execution_count": 125,
   "outputs": [
    {
     "data": {
      "text/plain": "   RelativeTime  PacketsSent  PacketsReceived  BytesSent  BytesReceived  \\\n0           0.0            1                0        267              0   \n1           0.1           14               14       1957           6714   \n2           0.2            3                3        244            551   \n3           0.3            8                0        798              0   \n4           0.4            3                1        600            102   \n\n           IPSrc0        IPDst0 Protocol0  PacketsSent0  PacketsReceived0  \\\n0   192.168.1.190  173.194.7.39         0             0                 0   \n1   192.168.1.190  173.194.7.39         0             0                 0   \n2   192.168.1.190  173.194.7.39         0             0                 0   \n3   192.168.1.190  173.194.7.39         0             0                 0   \n4   192.168.1.190  173.194.7.39         0             0                 0   \n\n   ...  q240p  q360p q480p q720p q1080p  q1440p  q2160p  BufferHealth  \\\n0  ...      0      0     0     0      0       0       0           0.0   \n1  ...      0      0     0     0      0       0       0           0.0   \n2  ...      0      0     0     0      0       0       0           0.0   \n3  ...      0      0     0     0      0       0       0           0.0   \n4  ...      0      0     0     0      0       0       0           0.0   \n\n   BufferProgress BufferValid  \n0             0.0          -1  \n1             0.0          -1  \n2             0.0          -1  \n3             0.0          -1  \n4             0.0          -1  \n\n[5 rows x 207 columns]",
      "text/html": "<div>\n<style scoped>\n    .dataframe tbody tr th:only-of-type {\n        vertical-align: middle;\n    }\n\n    .dataframe tbody tr th {\n        vertical-align: top;\n    }\n\n    .dataframe thead th {\n        text-align: right;\n    }\n</style>\n<table border=\"1\" class=\"dataframe\">\n  <thead>\n    <tr style=\"text-align: right;\">\n      <th></th>\n      <th>RelativeTime</th>\n      <th>PacketsSent</th>\n      <th>PacketsReceived</th>\n      <th>BytesSent</th>\n      <th>BytesReceived</th>\n      <th>IPSrc0</th>\n      <th>IPDst0</th>\n      <th>Protocol0</th>\n      <th>PacketsSent0</th>\n      <th>PacketsReceived0</th>\n      <th>...</th>\n      <th>q240p</th>\n      <th>q360p</th>\n      <th>q480p</th>\n      <th>q720p</th>\n      <th>q1080p</th>\n      <th>q1440p</th>\n      <th>q2160p</th>\n      <th>BufferHealth</th>\n      <th>BufferProgress</th>\n      <th>BufferValid</th>\n    </tr>\n  </thead>\n  <tbody>\n    <tr>\n      <th>0</th>\n      <td>0.0</td>\n      <td>1</td>\n      <td>0</td>\n      <td>267</td>\n      <td>0</td>\n      <td>192.168.1.190</td>\n      <td>173.194.7.39</td>\n      <td>0</td>\n      <td>0</td>\n      <td>0</td>\n      <td>...</td>\n      <td>0</td>\n      <td>0</td>\n      <td>0</td>\n      <td>0</td>\n      <td>0</td>\n      <td>0</td>\n      <td>0</td>\n      <td>0.0</td>\n      <td>0.0</td>\n      <td>-1</td>\n    </tr>\n    <tr>\n      <th>1</th>\n      <td>0.1</td>\n      <td>14</td>\n      <td>14</td>\n      <td>1957</td>\n      <td>6714</td>\n      <td>192.168.1.190</td>\n      <td>173.194.7.39</td>\n      <td>0</td>\n      <td>0</td>\n      <td>0</td>\n      <td>...</td>\n      <td>0</td>\n      <td>0</td>\n      <td>0</td>\n      <td>0</td>\n      <td>0</td>\n      <td>0</td>\n      <td>0</td>\n      <td>0.0</td>\n      <td>0.0</td>\n      <td>-1</td>\n    </tr>\n    <tr>\n      <th>2</th>\n      <td>0.2</td>\n      <td>3</td>\n      <td>3</td>\n      <td>244</td>\n      <td>551</td>\n      <td>192.168.1.190</td>\n      <td>173.194.7.39</td>\n      <td>0</td>\n      <td>0</td>\n      <td>0</td>\n      <td>...</td>\n      <td>0</td>\n      <td>0</td>\n      <td>0</td>\n      <td>0</td>\n      <td>0</td>\n      <td>0</td>\n      <td>0</td>\n      <td>0.0</td>\n      <td>0.0</td>\n      <td>-1</td>\n    </tr>\n    <tr>\n      <th>3</th>\n      <td>0.3</td>\n      <td>8</td>\n      <td>0</td>\n      <td>798</td>\n      <td>0</td>\n      <td>192.168.1.190</td>\n      <td>173.194.7.39</td>\n      <td>0</td>\n      <td>0</td>\n      <td>0</td>\n      <td>...</td>\n      <td>0</td>\n      <td>0</td>\n      <td>0</td>\n      <td>0</td>\n      <td>0</td>\n      <td>0</td>\n      <td>0</td>\n      <td>0.0</td>\n      <td>0.0</td>\n      <td>-1</td>\n    </tr>\n    <tr>\n      <th>4</th>\n      <td>0.4</td>\n      <td>3</td>\n      <td>1</td>\n      <td>600</td>\n      <td>102</td>\n      <td>192.168.1.190</td>\n      <td>173.194.7.39</td>\n      <td>0</td>\n      <td>0</td>\n      <td>0</td>\n      <td>...</td>\n      <td>0</td>\n      <td>0</td>\n      <td>0</td>\n      <td>0</td>\n      <td>0</td>\n      <td>0</td>\n      <td>0</td>\n      <td>0.0</td>\n      <td>0.0</td>\n      <td>-1</td>\n    </tr>\n  </tbody>\n</table>\n<p>5 rows × 207 columns</p>\n</div>"
     },
     "execution_count": 125,
     "metadata": {},
     "output_type": "execute_result"
    }
   ],
   "source": [
    "df.iloc[0:6]"
   ],
   "metadata": {
    "collapsed": false
   }
  },
  {
   "cell_type": "code",
   "execution_count": null,
   "outputs": [],
   "source": [
    "import pandas as pd\n",
    "import numpy as np\n",
    "from scapy.all import *\n",
    "from math import *\n",
    "\n",
    "GET_THRESH = 300 # bytes\n",
    "DOWN_THRESH = 300  # bytes\n",
    "VIDEO_CHUNK_GETSIZE = 700 # bytes\n",
    "AUDIO_CHUNK_GETSIZE = 600 # bytes\n",
    "NETINFO_NUM = 25\n",
    "\n",
    "class Chunk():\n",
    "    def __init__(self, start_time = 0, server_ip='',ttfb = 0, download_time = 0, slack_time = 0, get_size=0, chunk_size = 0, type=\"\", protocol=\"\"):\n",
    "        self.start_time = start_time\n",
    "        self.server_ip = server_ip\n",
    "        self.ttfb = ttfb\n",
    "        self.download_time = download_time\n",
    "        self.slack_time = slack_time\n",
    "        self.get_size = get_size\n",
    "        self.chunk_size = chunk_size\n",
    "        self.type = type\n",
    "        self.protocol = protocol\n",
    "    def __str__(self):\n",
    "        return f\"{self.start_time} {self.ttfb} {self.download_time} {self.slack_time} {self.get_size} {self.chunk_size} {self.type} {self.protocol}\"\n",
    "    def __repr__(self):\n",
    "        return f\"{self.start_time} {self.ttfb} {self.download_time} {self.slack_time} {self.get_size} {self.chunk_size} {self.type} {self.protocol}\"\n",
    "\n",
    "\n",
    "def isUplink(p):\n",
    "    # IP = scapy.layers.inet.IP\n",
    "    return p[IP].src.startswith('192.168.')\n",
    "\n",
    "def detectAV(c):\n",
    "    if abs(c.get_size-VIDEO_CHUNK_GETSIZE) > abs(c.get_size-AUDIO_CHUNK_GETSIZE):\n",
    "        flag=0\n",
    "    else:\n",
    "        flag=1\n",
    "    if c.chunk_size<=80*1024:\n",
    "        flag=2\n",
    "    return flag\n",
    "\n",
    "def chunkDetection(filename):\n",
    "    a = rdpcap(filename)\n",
    "    meta_time = float(a[0].time)\n",
    "    chunk = {}\n",
    "    chunks = []\n",
    "    downFlag = {}\n",
    "    # IP = scapy.layers.inet.IP\n",
    "    for p in a:\n",
    "        if p.haslayer(IP):\n",
    "            ipSrc=p[IP].src\n",
    "            ipDst=p[IP].dst\n",
    "            pLen=p[IP].len\n",
    "            pHdr=p[IP].ihl*4\n",
    "            ip_time=float(p.time)\n",
    "            if isUplink(p) and pLen-pHdr > GET_THRESH:\n",
    "                if ipDst in chunk:\n",
    "                    chunk[ipDst].slack_time = ip_time - chunk[ipDst].download_time\n",
    "                    avFlag=detectAV(chunk[ipDst])\n",
    "                    if avFlag==0:\n",
    "                        # chunk[ipDst].type='a'\n",
    "                        chunks.append(chunk[ipDst])\n",
    "                    elif avFlag==1:\n",
    "                        # chunk[ipDst].type='v'\n",
    "                        chunks.append(chunk[ipDst])\n",
    "                    else:\n",
    "                        chunk.pop(ipDst)\n",
    "                        downFlag.pop(ipDst)\n",
    "                chunk[ipDst] = Chunk(start_time=ip_time, get_size=pLen-pHdr, server_ip=ipDst)\n",
    "                downFlag[ipDst] = False\n",
    "            elif not isUplink(p) and pLen > DOWN_THRESH:\n",
    "                if ipSrc in chunk:\n",
    "                    if not downFlag[ipSrc]:\n",
    "                        chunk[ipSrc].ttfb = ip_time\n",
    "                        downFlag[ipSrc] = True\n",
    "                    chunk[ipSrc].download_time = ip_time\n",
    "                    chunk[ipSrc].chunk_size += pLen - pHdr\n",
    "                    chunk[ipSrc].protocol = p.proto\n",
    "\n",
    "    for c in chunk.values():\n",
    "        avFlag=detectAV(c)\n",
    "        if avFlag==0:\n",
    "            # c.type='a'\n",
    "            chunks.append(c)\n",
    "        elif avFlag==1:\n",
    "            # c.type='v'\n",
    "            chunks.append(c)\n",
    "    return meta_time, chunks\n",
    "\n",
    "filename = 'RequetDataSetNew/A0/PCAP_FILES/baseline_Jan17_exp_31.pcap'\n",
    "meta_time, chunks=chunkDetection(filename)"
   ],
   "metadata": {
    "collapsed": false
   }
  },
  {
   "cell_type": "code",
   "execution_count": 1,
   "outputs": [
    {
     "name": "stderr",
     "output_type": "stream",
     "text": [
      "WARNING: No libpcap provider available ! pcap won't be used\n",
      "D:\\Program\\Anaconda\\envs\\dip2022\\lib\\site-packages\\scapy\\layers\\ipsec.py:471: CryptographyDeprecationWarning: Blowfish has been deprecated\n",
      "  cipher=algorithms.Blowfish,\n",
      "D:\\Program\\Anaconda\\envs\\dip2022\\lib\\site-packages\\scapy\\layers\\ipsec.py:485: CryptographyDeprecationWarning: CAST5 has been deprecated\n",
      "  cipher=algorithms.CAST5,\n"
     ]
    },
    {
     "name": "stdout",
     "output_type": "stream",
     "text": [
      "Processing file: LabelDataSet/A0\\baseline_Jan17_exp_31_merged_label.csv\n",
      "baseline_Jan17_exp_31\n",
      "Reading pcap file...\n",
      "Parsing pcap file...\n"
     ]
    },
    {
     "name": "stderr",
     "output_type": "stream",
     "text": [
      "100%|█████████████████████████████████████████████████████████████████████████| 84540/84540 [00:02<00:00, 30921.88it/s]\n"
     ]
    },
    {
     "name": "stdout",
     "output_type": "stream",
     "text": [
      "120\n"
     ]
    }
   ],
   "source": [
    "import pandas as pd\n",
    "import random\n",
    "import chunkdetection\n",
    "import csv\n",
    "import glob\n",
    "import os\n",
    "from sklearn.ensemble import RandomForestClassifier\n",
    "from sklearn.preprocessing import scale\n",
    "\n",
    "# dataset_list=['A', 'B1', 'B2', 'C', 'D']\n",
    "\n",
    "ans = []\n",
    "# for dataset in dataset_list:\n",
    "dataset_folder = 'LabelDataSet/A0/'\n",
    "files = glob.glob(dataset_folder + '*_label.csv')\n",
    "# cnt=0\n",
    "for i in range(1):\n",
    "    file_name = files[i]\n",
    "    print(\"Processing file: \" + file_name)\n",
    "    # if (i >= len_list[dataset]):\n",
    "    # \tbreak\n",
    "    file = pd.read_csv(file_name)  # wxh's csv name\n",
    "    print(os.path.split(file_name)[1].split('/')[-1][:-17])\n",
    "    feature_file = 'RequetDataSetNew/' +'A0'+'/PCAP_FILES/' + os.path.split(file_name)[1].split('/')[-1][:-17] + '.pcap'  # yhy's pcap name\n",
    "    feature_class = chunkdetection.ChunkDetection(feature_file)\n",
    "    print(len(feature_class.getFeature(1516209864093)))"
   ],
   "metadata": {
    "collapsed": false
   }
  },
  {
   "cell_type": "code",
   "execution_count": 2,
   "outputs": [
    {
     "data": {
      "text/plain": "[2,\n 1279861.0,\n 2.74914288520813,\n 0,\n 0,\n 0,\n 2,\n 1279861.0,\n 2.74914288520813,\n 0,\n 0,\n 0,\n 2,\n 1279861.0,\n 2.74914288520813,\n 0,\n 0,\n 0,\n 3,\n 1492881.6666666667,\n 4.736539840698242,\n 0,\n 0,\n 0,\n 3,\n 1492881.6666666667,\n 4.736539840698242,\n 0,\n 0,\n 0,\n 5,\n 1412717.6,\n 8.965434789657593,\n 0,\n 0,\n 0,\n 5,\n 1412717.6,\n 8.965434789657593,\n 0,\n 0,\n 0,\n 6,\n 1524897.5,\n 10.465993881225586,\n 0,\n 0,\n 0,\n 7,\n 1564473.857142857,\n 12.488471984863281,\n 0,\n 0,\n 0,\n 7,\n 1564473.857142857,\n 12.488471984863281,\n 0,\n 0,\n 0,\n 8,\n 1445585.0,\n 13.299987077713013,\n 0,\n 0,\n 0,\n 9,\n 1495504.4444444445,\n 15.083724021911621,\n 0,\n 0,\n 0,\n 9,\n 1495504.4444444445,\n 15.083724021911621,\n 0,\n 0,\n 0,\n 11,\n 1420095.0,\n 17.112349271774292,\n 0,\n 0,\n 0,\n 11,\n 1420095.0,\n 17.112349271774292,\n 0,\n 0,\n 0,\n 11,\n 1420095.0,\n 17.112349271774292,\n 0,\n 0,\n 0,\n 12,\n 1464953.25,\n 19.117595434188843,\n 0,\n 0,\n 0,\n 13,\n 1400798.6923076923,\n 19.849315404891968,\n 0,\n 0,\n 0,\n 14,\n 1448151.642857143,\n 21.706393480300903,\n 0,\n 0,\n 0,\n 16,\n 1430921.875,\n 24.502686738967896,\n 0,\n 0,\n 0]"
     },
     "execution_count": 2,
     "metadata": {},
     "output_type": "execute_result"
    }
   ],
   "source": [
    "feature_class.getFeature(1516209864093)"
   ],
   "metadata": {
    "collapsed": false
   }
  },
  {
   "cell_type": "code",
   "execution_count": 34,
   "outputs": [
    {
     "name": "stdout",
     "output_type": "stream",
     "text": [
      "Use 4.6959614753723145s\n",
      "[1, 1958394.0, 2.005246162414551, 0, 0, 0, 2, 1294669.0, 2.736966133117676, 0, 0, 0, 3, 1551026.0, 4.594044208526611, 0, 0, 0, 5, 1454741.0, 7.3903374671936035, 0, 0, 0, 5, 1454741.0, 7.3903374671936035, 0, 0, 0, 7, 1424870.4285714286, 9.905755281448364, 0, 0, 0, 9, 1396956.111111111, 13.018399238586426, 0, 0, 0, 13, 1141077.7692307692, 17.143291473388672, 3, 1152819.0, 2.8974967002868652, 17, 950886.4117647059, 27.476295232772827, 10, 1633147.3, 13.179170846939087, -1, -1, -1, -1, -1, -1, -1, -1, -1, -1, -1, -1, -1, -1, -1, -1, -1, -1, -1, -1, -1, -1, -1, -1, -1, -1, -1, -1, -1, -1, -1, -1, -1, -1, -1, -1, -1, -1, -1, -1, -1, -1, -1, -1, -1, -1, -1, -1, -1, -1, -1, -1, -1, -1, -1, -1, -1, -1, -1, -1, -1, -1, -1, -1, -1, -1, 'LabelDataSet/A0\\\\baseline_Jan17_exp_31_merged_label.csv-1516209702496', 0, 1, 4]\n"
     ]
    }
   ],
   "source": [
    "import time\n",
    "ans = []\n",
    "start = time.time()\n",
    "numpy_file = file.to_numpy()\n",
    "lable_size = numpy_file.shape[0]\n",
    "for i in range(0, lable_size, 50):\n",
    "    feature = feature_class.getFeature(numpy_file[i,0])\n",
    "    if not feature:\n",
    "        continue\n",
    "    feature.append(file_name + \"-\" + str(numpy_file[i,0]))\n",
    "    feature.extend(numpy_file[i,1:])\n",
    "    ans.append(feature)\n",
    "end = time.time()\n",
    "print(f'Use {end - start}s')\n",
    "print(ans[15])"
   ],
   "metadata": {
    "collapsed": false
   }
  },
  {
   "cell_type": "code",
   "execution_count": 32,
   "outputs": [
    {
     "name": "stdout",
     "output_type": "stream",
     "text": [
      "Use 4.498184680938721s\n",
      "[1, 1958394.0, 2.005246162414551, 0, 0, 0, 2, 1294669.0, 2.736966133117676, 0, 0, 0, 3, 1551026.0, 4.594044208526611, 0, 0, 0, 5, 1454741.0, 7.3903374671936035, 0, 0, 0, 5, 1454741.0, 7.3903374671936035, 0, 0, 0, 7, 1424870.4285714286, 9.905755281448364, 0, 0, 0, 9, 1396956.111111111, 13.018399238586426, 0, 0, 0, 13, 1141077.7692307692, 17.143291473388672, 3, 1152819.0, 2.8974967002868652, 17, 950886.4117647059, 27.476295232772827, 10, 1633147.3, 13.179170846939087, -1, -1, -1, -1, -1, -1, -1, -1, -1, -1, -1, -1, -1, -1, -1, -1, -1, -1, -1, -1, -1, -1, -1, -1, -1, -1, -1, -1, -1, -1, -1, -1, -1, -1, -1, -1, -1, -1, -1, -1, -1, -1, -1, -1, -1, -1, -1, -1, -1, -1, -1, -1, -1, -1, -1, -1, -1, -1, -1, -1, -1, -1, -1, -1, -1, -1, 'LabelDataSet/A0\\\\baseline_Jan17_exp_31_merged_label.csv-1516209702496', 0, 1, 4]\n"
     ]
    }
   ],
   "source": [
    "ans = []\n",
    "start = time.time()\n",
    "lable_size = file.shape[0]\n",
    "for i in range(0, lable_size, 50):\n",
    "    feature = feature_class.getFeature(file.iloc[i, 0])\n",
    "    if not feature:\n",
    "        continue\n",
    "    feature.append(file_name + \"-\" + str(file.iloc[i, 0]))\n",
    "    feature.extend(file.iloc[i, 1:])\n",
    "    ans.append(feature)\n",
    "end = time.time()\n",
    "print(f'Use {end - start}s')\n",
    "print(ans[15])"
   ],
   "metadata": {
    "collapsed": false
   }
  },
  {
   "cell_type": "code",
   "execution_count": 6,
   "outputs": [],
   "source": [
    "numpy_file = file.to_numpy()"
   ],
   "metadata": {
    "collapsed": false
   }
  },
  {
   "cell_type": "code",
   "execution_count": 15,
   "outputs": [
    {
     "data": {
      "text/plain": "array([1, 3, 4], dtype=int64)"
     },
     "execution_count": 15,
     "metadata": {},
     "output_type": "execute_result"
    }
   ],
   "source": [
    "numpy_file[i,1:]"
   ],
   "metadata": {
    "collapsed": false
   }
  },
  {
   "cell_type": "code",
   "execution_count": 12,
   "outputs": [
    {
     "ename": "NameError",
     "evalue": "name 'feature' is not defined",
     "output_type": "error",
     "traceback": [
      "\u001B[1;31m---------------------------------------------------------------------------\u001B[0m",
      "\u001B[1;31mNameError\u001B[0m                                 Traceback (most recent call last)",
      "Cell \u001B[1;32mIn [12], line 1\u001B[0m\n\u001B[1;32m----> 1\u001B[0m feature\n",
      "\u001B[1;31mNameError\u001B[0m: name 'feature' is not defined"
     ]
    }
   ],
   "source": [
    "feature"
   ],
   "metadata": {
    "collapsed": false
   }
  },
  {
   "cell_type": "code",
   "execution_count": 13,
   "outputs": [
    {
     "data": {
      "text/plain": "[2,\n 1279861.0,\n 2.74914288520813,\n 0,\n 0,\n 0,\n 2,\n 1279861.0,\n 2.74914288520813,\n 0,\n 0,\n 0,\n 2,\n 1279861.0,\n 2.74914288520813,\n 0,\n 0,\n 0,\n 3,\n 1492881.6666666667,\n 4.736539840698242,\n 0,\n 0,\n 0,\n 3,\n 1492881.6666666667,\n 4.736539840698242,\n 0,\n 0,\n 0,\n 5,\n 1412717.6,\n 8.965434789657593,\n 0,\n 0,\n 0,\n 5,\n 1412717.6,\n 8.965434789657593,\n 0,\n 0,\n 0,\n 6,\n 1524897.5,\n 10.465993881225586,\n 0,\n 0,\n 0,\n 7,\n 1564473.857142857,\n 12.488471984863281,\n 0,\n 0,\n 0,\n 7,\n 1564473.857142857,\n 12.488471984863281,\n 0,\n 0,\n 0,\n 8,\n 1445585.0,\n 13.299987077713013,\n 0,\n 0,\n 0,\n 9,\n 1495504.4444444445,\n 15.083724021911621,\n 0,\n 0,\n 0,\n 9,\n 1495504.4444444445,\n 15.083724021911621,\n 0,\n 0,\n 0,\n 11,\n 1420095.0,\n 17.112349271774292,\n 0,\n 0,\n 0,\n 11,\n 1420095.0,\n 17.112349271774292,\n 0,\n 0,\n 0,\n 11,\n 1420095.0,\n 17.112349271774292,\n 0,\n 0,\n 0,\n 12,\n 1464953.25,\n 19.117595434188843,\n 0,\n 0,\n 0,\n 13,\n 1400798.6923076923,\n 19.849315404891968,\n 0,\n 0,\n 0,\n 14,\n 1448151.642857143,\n 21.706393480300903,\n 0,\n 0,\n 0,\n 16,\n 1430921.875,\n 24.502686738967896,\n 0,\n 0,\n 0]"
     },
     "execution_count": 13,
     "metadata": {},
     "output_type": "execute_result"
    }
   ],
   "source": [
    "feature_class.getFeature(1516209864093)"
   ],
   "metadata": {
    "collapsed": false
   }
  },
  {
   "cell_type": "code",
   "execution_count": 3,
   "outputs": [],
   "source": [
    "import numpy as np\n",
    "a = np.array([1,2,3,4,5])"
   ],
   "metadata": {
    "collapsed": false,
    "pycharm": {
     "name": "#%%p\n"
    }
   }
  },
  {
   "cell_type": "code",
   "execution_count": 11,
   "outputs": [
    {
     "name": "stdout",
     "output_type": "stream",
     "text": [
      "[1 2 3 4 5]\n",
      "[2 3 4 5]\n",
      "[3 4 5]\n",
      "[4 5]\n",
      "[5]\n"
     ]
    }
   ],
   "source": [
    "for i in range(5):\n",
    "    print(a[a>i])"
   ],
   "metadata": {
    "collapsed": false
   }
  },
  {
   "cell_type": "code",
   "execution_count": 12,
   "outputs": [],
   "source": [
    "from matplotlib.pyplot import text\n",
    "import pandas as pd\n",
    "import random\n",
    "import csv\n",
    "import joblib\n",
    "from sklearn.metrics import accuracy_score\n",
    "from sklearn.ensemble import RandomForestClassifier\n",
    "from sklearn.preprocessing import scale\n",
    "from sklearn.model_selection import train_test_split\n",
    "train_times=10# 在训练集中建立train_times个随机森林，选择训练集中表现最好的用来跑test\n",
    "Tree_num=80#随机森林里树的个数\n",
    "\n",
    "train_file_name='test_data/test_data.csv'\n",
    "train_file=pd.read_csv(train_file_name)"
   ],
   "metadata": {
    "collapsed": false
   }
  },
  {
   "cell_type": "code",
   "execution_count": 16,
   "outputs": [
    {
     "data": {
      "text/plain": "       label0        label1     label2  label3      label4    label5  label6  \\\n0           6  4.629428e+05  11.650978       8  1576899.00  9.220158      -1   \n1           6  4.726043e+05   6.821882       4  1257938.75  5.230437       8   \n2           2  8.152340e+05   2.856864       0        0.00  0.000000       7   \n3           2  1.299256e+06   3.112644       0        0.00  0.000000       6   \n4           3  1.562799e+06   5.031307       0        0.00  0.000000       5   \n...       ...           ...        ...     ...         ...       ...     ...   \n11124       0  0.000000e+00   0.000000       0        0.00  0.000000       0   \n11125       0  0.000000e+00   0.000000       0        0.00  0.000000       0   \n11126       0  0.000000e+00   0.000000       0        0.00  0.000000       0   \n11127       0  0.000000e+00   0.000000       0        0.00  0.000000       0   \n11128       0  0.000000e+00   0.000000       0        0.00  0.000000       0   \n\n             label7     label8  label9  ...   label110  label111  label112  \\\n0     -1.000000e+00  -1.000000      -1  ...  -1.000000        -1      -1.0   \n1      4.490580e+05  14.457896      10  ...  -1.000000        -1      -1.0   \n2      4.240593e+05  11.918181       7  ...  -1.000000        -1      -1.0   \n3      8.099863e+05   7.237536       4  ...  -1.000000        -1      -1.0   \n4      1.263773e+06   7.888171       0  ...  -1.000000        -1      -1.0   \n...             ...        ...     ...  ...        ...       ...       ...   \n11124  0.000000e+00   0.000000       0  ...  49.460778         0       0.0   \n11125  0.000000e+00   0.000000       0  ...  49.460778         0       0.0   \n11126  0.000000e+00   0.000000       0  ...  48.769905         0       0.0   \n11127  0.000000e+00   0.000000       0  ...  48.769905         0       0.0   \n11128  0.000000e+00   0.000000       0  ...  47.096989         0       0.0   \n\n       label113  label114       label115   label116  label117       label118  \\\n0          -1.0        -1      -1.000000  -1.000000        -1      -1.000000   \n1          -1.0        -1      -1.000000  -1.000000        -1      -1.000000   \n2          -1.0        -1      -1.000000  -1.000000        -1      -1.000000   \n3          -1.0        -1      -1.000000  -1.000000        -1      -1.000000   \n4          -1.0        -1      -1.000000  -1.000000        -1      -1.000000   \n...         ...       ...            ...        ...       ...            ...   \n11124       0.0        17  884018.294118  51.069417         6  822185.833333   \n11125       0.0        17  884018.294118  51.069417         3  796124.333333   \n11126       0.0        14  822232.928571  49.460778         0       0.000000   \n11127       0.0        13  748100.076923  48.769905         0       0.000000   \n11128       0.0        13  748100.076923  48.769905         0       0.000000   \n\n        label119  \n0      -1.000000  \n1      -1.000000  \n2      -1.000000  \n3      -1.000000  \n4      -1.000000  \n...          ...  \n11124  11.036120  \n11125   4.929644  \n11126   0.000000  \n11127   0.000000  \n11128   0.000000  \n\n[11129 rows x 120 columns]",
      "text/html": "<div>\n<style scoped>\n    .dataframe tbody tr th:only-of-type {\n        vertical-align: middle;\n    }\n\n    .dataframe tbody tr th {\n        vertical-align: top;\n    }\n\n    .dataframe thead th {\n        text-align: right;\n    }\n</style>\n<table border=\"1\" class=\"dataframe\">\n  <thead>\n    <tr style=\"text-align: right;\">\n      <th></th>\n      <th>label0</th>\n      <th>label1</th>\n      <th>label2</th>\n      <th>label3</th>\n      <th>label4</th>\n      <th>label5</th>\n      <th>label6</th>\n      <th>label7</th>\n      <th>label8</th>\n      <th>label9</th>\n      <th>...</th>\n      <th>label110</th>\n      <th>label111</th>\n      <th>label112</th>\n      <th>label113</th>\n      <th>label114</th>\n      <th>label115</th>\n      <th>label116</th>\n      <th>label117</th>\n      <th>label118</th>\n      <th>label119</th>\n    </tr>\n  </thead>\n  <tbody>\n    <tr>\n      <th>0</th>\n      <td>6</td>\n      <td>4.629428e+05</td>\n      <td>11.650978</td>\n      <td>8</td>\n      <td>1576899.00</td>\n      <td>9.220158</td>\n      <td>-1</td>\n      <td>-1.000000e+00</td>\n      <td>-1.000000</td>\n      <td>-1</td>\n      <td>...</td>\n      <td>-1.000000</td>\n      <td>-1</td>\n      <td>-1.0</td>\n      <td>-1.0</td>\n      <td>-1</td>\n      <td>-1.000000</td>\n      <td>-1.000000</td>\n      <td>-1</td>\n      <td>-1.000000</td>\n      <td>-1.000000</td>\n    </tr>\n    <tr>\n      <th>1</th>\n      <td>6</td>\n      <td>4.726043e+05</td>\n      <td>6.821882</td>\n      <td>4</td>\n      <td>1257938.75</td>\n      <td>5.230437</td>\n      <td>8</td>\n      <td>4.490580e+05</td>\n      <td>14.457896</td>\n      <td>10</td>\n      <td>...</td>\n      <td>-1.000000</td>\n      <td>-1</td>\n      <td>-1.0</td>\n      <td>-1.0</td>\n      <td>-1</td>\n      <td>-1.000000</td>\n      <td>-1.000000</td>\n      <td>-1</td>\n      <td>-1.000000</td>\n      <td>-1.000000</td>\n    </tr>\n    <tr>\n      <th>2</th>\n      <td>2</td>\n      <td>8.152340e+05</td>\n      <td>2.856864</td>\n      <td>0</td>\n      <td>0.00</td>\n      <td>0.000000</td>\n      <td>7</td>\n      <td>4.240593e+05</td>\n      <td>11.918181</td>\n      <td>7</td>\n      <td>...</td>\n      <td>-1.000000</td>\n      <td>-1</td>\n      <td>-1.0</td>\n      <td>-1.0</td>\n      <td>-1</td>\n      <td>-1.000000</td>\n      <td>-1.000000</td>\n      <td>-1</td>\n      <td>-1.000000</td>\n      <td>-1.000000</td>\n    </tr>\n    <tr>\n      <th>3</th>\n      <td>2</td>\n      <td>1.299256e+06</td>\n      <td>3.112644</td>\n      <td>0</td>\n      <td>0.00</td>\n      <td>0.000000</td>\n      <td>6</td>\n      <td>8.099863e+05</td>\n      <td>7.237536</td>\n      <td>4</td>\n      <td>...</td>\n      <td>-1.000000</td>\n      <td>-1</td>\n      <td>-1.0</td>\n      <td>-1.0</td>\n      <td>-1</td>\n      <td>-1.000000</td>\n      <td>-1.000000</td>\n      <td>-1</td>\n      <td>-1.000000</td>\n      <td>-1.000000</td>\n    </tr>\n    <tr>\n      <th>4</th>\n      <td>3</td>\n      <td>1.562799e+06</td>\n      <td>5.031307</td>\n      <td>0</td>\n      <td>0.00</td>\n      <td>0.000000</td>\n      <td>5</td>\n      <td>1.263773e+06</td>\n      <td>7.888171</td>\n      <td>0</td>\n      <td>...</td>\n      <td>-1.000000</td>\n      <td>-1</td>\n      <td>-1.0</td>\n      <td>-1.0</td>\n      <td>-1</td>\n      <td>-1.000000</td>\n      <td>-1.000000</td>\n      <td>-1</td>\n      <td>-1.000000</td>\n      <td>-1.000000</td>\n    </tr>\n    <tr>\n      <th>...</th>\n      <td>...</td>\n      <td>...</td>\n      <td>...</td>\n      <td>...</td>\n      <td>...</td>\n      <td>...</td>\n      <td>...</td>\n      <td>...</td>\n      <td>...</td>\n      <td>...</td>\n      <td>...</td>\n      <td>...</td>\n      <td>...</td>\n      <td>...</td>\n      <td>...</td>\n      <td>...</td>\n      <td>...</td>\n      <td>...</td>\n      <td>...</td>\n      <td>...</td>\n      <td>...</td>\n    </tr>\n    <tr>\n      <th>11124</th>\n      <td>0</td>\n      <td>0.000000e+00</td>\n      <td>0.000000</td>\n      <td>0</td>\n      <td>0.00</td>\n      <td>0.000000</td>\n      <td>0</td>\n      <td>0.000000e+00</td>\n      <td>0.000000</td>\n      <td>0</td>\n      <td>...</td>\n      <td>49.460778</td>\n      <td>0</td>\n      <td>0.0</td>\n      <td>0.0</td>\n      <td>17</td>\n      <td>884018.294118</td>\n      <td>51.069417</td>\n      <td>6</td>\n      <td>822185.833333</td>\n      <td>11.036120</td>\n    </tr>\n    <tr>\n      <th>11125</th>\n      <td>0</td>\n      <td>0.000000e+00</td>\n      <td>0.000000</td>\n      <td>0</td>\n      <td>0.00</td>\n      <td>0.000000</td>\n      <td>0</td>\n      <td>0.000000e+00</td>\n      <td>0.000000</td>\n      <td>0</td>\n      <td>...</td>\n      <td>49.460778</td>\n      <td>0</td>\n      <td>0.0</td>\n      <td>0.0</td>\n      <td>17</td>\n      <td>884018.294118</td>\n      <td>51.069417</td>\n      <td>3</td>\n      <td>796124.333333</td>\n      <td>4.929644</td>\n    </tr>\n    <tr>\n      <th>11126</th>\n      <td>0</td>\n      <td>0.000000e+00</td>\n      <td>0.000000</td>\n      <td>0</td>\n      <td>0.00</td>\n      <td>0.000000</td>\n      <td>0</td>\n      <td>0.000000e+00</td>\n      <td>0.000000</td>\n      <td>0</td>\n      <td>...</td>\n      <td>48.769905</td>\n      <td>0</td>\n      <td>0.0</td>\n      <td>0.0</td>\n      <td>14</td>\n      <td>822232.928571</td>\n      <td>49.460778</td>\n      <td>0</td>\n      <td>0.000000</td>\n      <td>0.000000</td>\n    </tr>\n    <tr>\n      <th>11127</th>\n      <td>0</td>\n      <td>0.000000e+00</td>\n      <td>0.000000</td>\n      <td>0</td>\n      <td>0.00</td>\n      <td>0.000000</td>\n      <td>0</td>\n      <td>0.000000e+00</td>\n      <td>0.000000</td>\n      <td>0</td>\n      <td>...</td>\n      <td>48.769905</td>\n      <td>0</td>\n      <td>0.0</td>\n      <td>0.0</td>\n      <td>13</td>\n      <td>748100.076923</td>\n      <td>48.769905</td>\n      <td>0</td>\n      <td>0.000000</td>\n      <td>0.000000</td>\n    </tr>\n    <tr>\n      <th>11128</th>\n      <td>0</td>\n      <td>0.000000e+00</td>\n      <td>0.000000</td>\n      <td>0</td>\n      <td>0.00</td>\n      <td>0.000000</td>\n      <td>0</td>\n      <td>0.000000e+00</td>\n      <td>0.000000</td>\n      <td>0</td>\n      <td>...</td>\n      <td>47.096989</td>\n      <td>0</td>\n      <td>0.0</td>\n      <td>0.0</td>\n      <td>13</td>\n      <td>748100.076923</td>\n      <td>48.769905</td>\n      <td>0</td>\n      <td>0.000000</td>\n      <td>0.000000</td>\n    </tr>\n  </tbody>\n</table>\n<p>11129 rows × 120 columns</p>\n</div>"
     },
     "execution_count": 16,
     "metadata": {},
     "output_type": "execute_result"
    }
   ],
   "source": [
    "train_file.iloc[:,:-4]"
   ],
   "metadata": {
    "collapsed": false
   }
  },
  {
   "cell_type": "code",
   "execution_count": 51,
   "outputs": [
    {
     "data": {
      "text/plain": "0        3\n1        3\n2        3\n3        3\n4        3\n        ..\n11124    2\n11125    2\n11126    0\n11127    0\n11128    0\nName: BuffWarning, Length: 11129, dtype: int64"
     },
     "execution_count": 51,
     "metadata": {},
     "output_type": "execute_result"
    }
   ],
   "source": [
    "train_file.iloc[:,-2]"
   ],
   "metadata": {
    "collapsed": false
   }
  },
  {
   "cell_type": "code",
   "execution_count": 37,
   "outputs": [],
   "source": [
    "x_train,x_test,y_train,y_test = train_test_split(train_file.iloc[:,:-4],train_file.iloc[:,-3],test_size=0.3,random_state=2022)#test_size：用来控制选择训练集里test_s"
   ],
   "metadata": {
    "collapsed": false
   }
  },
  {
   "cell_type": "code",
   "execution_count": 38,
   "outputs": [
    {
     "data": {
      "text/plain": "(7790, 120)"
     },
     "execution_count": 38,
     "metadata": {},
     "output_type": "execute_result"
    }
   ],
   "source": [
    "x_train.shape"
   ],
   "metadata": {
    "collapsed": false
   }
  },
  {
   "cell_type": "code",
   "execution_count": 39,
   "outputs": [
    {
     "data": {
      "text/plain": "(3339, 120)"
     },
     "execution_count": 39,
     "metadata": {},
     "output_type": "execute_result"
    }
   ],
   "source": [
    "x_test.shape"
   ],
   "metadata": {
    "collapsed": false
   }
  },
  {
   "cell_type": "code",
   "execution_count": 41,
   "outputs": [
    {
     "data": {
      "text/plain": "3327    0\n4080    0\n1395    0\n7838    1\n5208    0\n       ..\n6384    0\n4720    0\n173     0\n1244    0\n4989    0\nName: status, Length: 7790, dtype: int64"
     },
     "execution_count": 41,
     "metadata": {},
     "output_type": "execute_result"
    }
   ],
   "source": [
    "y_train"
   ],
   "metadata": {
    "collapsed": false
   }
  },
  {
   "cell_type": "code",
   "execution_count": 42,
   "outputs": [
    {
     "data": {
      "text/plain": "8002     0\n11051    1\n426      0\n10538    0\n7227     0\n        ..\n4972     0\n8976     0\n10453    0\n4721     0\n7865     0\nName: status, Length: 3339, dtype: int64"
     },
     "execution_count": 42,
     "metadata": {},
     "output_type": "execute_result"
    }
   ],
   "source": [
    "y_test"
   ],
   "metadata": {
    "collapsed": false
   }
  },
  {
   "cell_type": "code",
   "execution_count": 43,
   "outputs": [],
   "source": [
    "RF=RandomForestClassifier(n_estimators=Tree_num)"
   ],
   "metadata": {
    "collapsed": false
   }
  },
  {
   "cell_type": "code",
   "execution_count": 44,
   "outputs": [],
   "source": [
    "RF.fit(x_train,y_train)\n",
    "y_pred=RF.predict(x_test)\n",
    "accuracy=accuracy_score(y_pred,y_test)"
   ],
   "metadata": {
    "collapsed": false
   }
  },
  {
   "cell_type": "code",
   "execution_count": 45,
   "outputs": [
    {
     "name": "stdout",
     "output_type": "stream",
     "text": [
      "0.9598682240191674\n"
     ]
    }
   ],
   "source": [
    "print(accuracy)"
   ],
   "metadata": {
    "collapsed": false
   }
  },
  {
   "cell_type": "code",
   "execution_count": 49,
   "outputs": [],
   "source": [
    "train_times=10# 在训练集中建立train_times个随机森林，选择训练集中表现最好的用来跑test\n",
    "for j in range(train_times):\n",
    "\trf=RandomForestClassifier(n_estimators=Tree_num)\n",
    "\trf.fit(x_train,y_train)\n",
    "\ttmp_y_pred=rf.predict(x_test)\n",
    "\tif accuracy<accuracy_score(tmp_y_pred,y_test):\n",
    "\t    y_pred=tmp_y_pred\n",
    "\t    accuracy=accuracy_score(tmp_y_pred,y_test)\n",
    "\t    RF=rf"
   ],
   "metadata": {
    "collapsed": false
   }
  },
  {
   "cell_type": "code",
   "execution_count": 50,
   "outputs": [
    {
     "name": "stdout",
     "output_type": "stream",
     "text": [
      "0.9610661874812818\n"
     ]
    }
   ],
   "source": [
    "print(accuracy)"
   ],
   "metadata": {
    "collapsed": false
   }
  },
  {
   "cell_type": "code",
   "execution_count": 82,
   "outputs": [],
   "source": [
    "from matplotlib.pyplot import text\n",
    "import pandas as pd\n",
    "import random\n",
    "import csv\n",
    "import joblib\n",
    "from sklearn.metrics import accuracy_score,precision_score,recall_score\n",
    "from sklearn.ensemble import RandomForestClassifier\n",
    "from sklearn.preprocessing import scale\n",
    "from sklearn.model_selection import train_test_split\n",
    "Tree_num=100#随机森林里树的个数\n",
    "x_train,x_test,y_train,y_test = train_test_split(train_file.iloc[:,:-4],train_file.iloc[:,-3],test_size=0.2,random_state=2022)\n",
    "RF = RandomForestClassifier(n_estimators=Tree_num)\n",
    "RF.fit(x_train,y_train)\n",
    "y_pred=RF.predict(x_test)\n",
    "accuracy = accuracy_score(y_test, y_pred)\n",
    "precision = precision_score(y_test,y_pred,average=None)\n",
    "recall = recall_score(y_test,y_pred,average=None)"
   ],
   "metadata": {
    "collapsed": false
   }
  },
  {
   "cell_type": "markdown",
   "source": [],
   "metadata": {
    "collapsed": false
   }
  },
  {
   "cell_type": "code",
   "execution_count": 83,
   "outputs": [
    {
     "name": "stdout",
     "output_type": "stream",
     "text": [
      "accuracy:0.9604672057502246, precision:[0.96489417 0.93079585], recall:[0.98941239 0.79821958]\n"
     ]
    }
   ],
   "source": [
    "print(f'accuracy:{accuracy}, precision:{precision}, recall:{recall}')"
   ],
   "metadata": {
    "collapsed": false
   }
  },
  {
   "cell_type": "code",
   "execution_count": 84,
   "outputs": [],
   "source": [
    "\n",
    "test_file_name='test_data/test_data.csv'#test文件名\n",
    "test_file=pd.read_csv(test_file_name)\n",
    "X_test=test_file.iloc[:,:-4]"
   ],
   "metadata": {
    "collapsed": false
   }
  },
  {
   "cell_type": "code",
   "execution_count": 87,
   "outputs": [
    {
     "name": "stdout",
     "output_type": "stream",
     "text": [
      "accuracy:0.9103243777518196, precision:[0.96489417 0.93079585], recall:[0.98941239 0.79821958]\n"
     ]
    },
    {
     "name": "stderr",
     "output_type": "stream",
     "text": [
      "D:\\Program\\Anaconda\\envs\\dip2022\\lib\\site-packages\\sklearn\\base.py:329: UserWarning: Trying to unpickle estimator DecisionTreeClassifier from version 1.1.1 when using version 1.1.3. This might lead to breaking code or invalid results. Use at your own risk. For more info please refer to:\n",
      "https://scikit-learn.org/stable/model_persistence.html#security-maintainability-limitations\n",
      "  warnings.warn(\n",
      "D:\\Program\\Anaconda\\envs\\dip2022\\lib\\site-packages\\sklearn\\base.py:329: UserWarning: Trying to unpickle estimator RandomForestClassifier from version 1.1.1 when using version 1.1.3. This might lead to breaking code or invalid results. Use at your own risk. For more info please refer to:\n",
      "https://scikit-learn.org/stable/model_persistence.html#security-maintainability-limitations\n",
      "  warnings.warn(\n"
     ]
    }
   ],
   "source": [
    "name_list=[\"Status\", \"BuffWarning\", \"Resolution\"]\n",
    "i = -3\n",
    "RF = joblib.load('traindata/RF_'+name_list[i] + '_large.pkl')\n",
    "Y_test=test_file.iloc[:,i]\n",
    "Y_pred=RF.predict(X_test)\n",
    "accuracy=accuracy_score(Y_pred,Y_test)\n",
    "precision = precision_score(y_test,y_pred,average=None)\n",
    "recall = recall_score(y_test,y_pred,average=None)\n",
    "print(f'accuracy:{accuracy}, precision:{precision}, recall:{recall}')"
   ],
   "metadata": {
    "collapsed": false
   }
  },
  {
   "cell_type": "code",
   "execution_count": 1,
   "outputs": [
    {
     "name": "stderr",
     "output_type": "stream",
     "text": [
      "D:\\Program\\Anaconda\\envs\\dip2022\\lib\\site-packages\\scapy\\layers\\ipsec.py:471: CryptographyDeprecationWarning: Blowfish has been deprecated\n",
      "  cipher=algorithms.Blowfish,\n",
      "D:\\Program\\Anaconda\\envs\\dip2022\\lib\\site-packages\\scapy\\layers\\ipsec.py:485: CryptographyDeprecationWarning: CAST5 has been deprecated\n",
      "  cipher=algorithms.CAST5,\n"
     ]
    },
    {
     "name": "stdout",
     "output_type": "stream",
     "text": [
      "Processing file: LabelDataSet/A0\\baseline_Jan17_exp_31_merged_label.csv\n",
      "baseline_Jan17_exp_31\n",
      "Reading pcap file...\n",
      "Parsing pcap file...\n"
     ]
    },
    {
     "name": "stderr",
     "output_type": "stream",
     "text": [
      "100%|█████████████████████████████████████████████████████████████████████████████| 84540/84540 [00:02<00:00, 30981.50it/s]\n"
     ]
    }
   ],
   "source": [
    "import pandas as pd\n",
    "import random\n",
    "import chunkdetection\n",
    "import csv\n",
    "import glob\n",
    "import os\n",
    "from sklearn.ensemble import RandomForestClassifier\n",
    "from sklearn.preprocessing import scale\n",
    "\n",
    "# dataset_list=['A', 'B1', 'B2', 'C', 'D']\n",
    "\n",
    "ans = []\n",
    "# for dataset in dataset_list:\n",
    "dataset_folder = 'LabelDataSet/A0/'\n",
    "files = glob.glob(dataset_folder + '*_label.csv')\n",
    "# cnt=0\n",
    "for i in range(1):\n",
    "    file_name = files[i]\n",
    "    print(\"Processing file: \" + file_name)\n",
    "    # if (i >= len_list[dataset]):\n",
    "    # \tbreak\n",
    "    file = pd.read_csv(file_name)  # wxh's csv name\n",
    "    print(os.path.split(file_name)[1].split('/')[-1][:-17])\n",
    "    feature_file = 'RequetDataSetNew/' +'A0'+'/PCAP_FILES/' + os.path.split(file_name)[1].split('/')[-1][:-17] + '.pcap'  # yhy's pcap name\n",
    "    feature_class = chunkdetection.ChunkDetection(feature_file)\n",
    "\n"
   ],
   "metadata": {
    "collapsed": false
   }
  },
  {
   "cell_type": "code",
   "execution_count": 2,
   "outputs": [
    {
     "name": "stdout",
     "output_type": "stream",
     "text": [
      "2\n",
      "2\n",
      "2\n",
      "3\n",
      "3\n",
      "5\n",
      "5\n",
      "6\n",
      "7\n",
      "7\n",
      "8\n",
      "9\n",
      "9\n",
      "11\n",
      "11\n",
      "11\n",
      "12\n",
      "13\n",
      "14\n",
      "16\n"
     ]
    },
    {
     "data": {
      "text/plain": "[2,\n 1279861.0,\n 2.74914288520813,\n 0,\n 0,\n 0,\n 2,\n 1279861.0,\n 2.74914288520813,\n 0,\n 0,\n 0,\n 2,\n 1279861.0,\n 2.74914288520813,\n 0,\n 0,\n 0,\n 3,\n 1492881.6666666667,\n 4.736539840698242,\n 0,\n 0,\n 0,\n 3,\n 1492881.6666666667,\n 4.736539840698242,\n 0,\n 0,\n 0,\n 5,\n 1412717.6,\n 8.965434789657593,\n 0,\n 0,\n 0,\n 5,\n 1412717.6,\n 8.965434789657593,\n 0,\n 0,\n 0,\n 6,\n 1524897.5,\n 10.465993881225586,\n 0,\n 0,\n 0,\n 7,\n 1564473.857142857,\n 12.488471984863281,\n 0,\n 0,\n 0,\n 7,\n 1564473.857142857,\n 12.488471984863281,\n 0,\n 0,\n 0,\n 8,\n 1445585.0,\n 13.299987077713013,\n 0,\n 0,\n 0,\n 9,\n 1495504.4444444445,\n 15.083724021911621,\n 0,\n 0,\n 0,\n 9,\n 1495504.4444444445,\n 15.083724021911621,\n 0,\n 0,\n 0,\n 11,\n 1420095.0,\n 17.112349271774292,\n 0,\n 0,\n 0,\n 11,\n 1420095.0,\n 17.112349271774292,\n 0,\n 0,\n 0,\n 11,\n 1420095.0,\n 17.112349271774292,\n 0,\n 0,\n 0,\n 12,\n 1464953.25,\n 19.117595434188843,\n 0,\n 0,\n 0,\n 13,\n 1400798.6923076923,\n 19.849315404891968,\n 0,\n 0,\n 0,\n 14,\n 1448151.642857143,\n 21.706393480300903,\n 0,\n 0,\n 0,\n 16,\n 1430921.875,\n 24.502686738967896,\n 0,\n 0,\n 0]"
     },
     "execution_count": 2,
     "metadata": {},
     "output_type": "execute_result"
    }
   ],
   "source": [
    "feature_class.getFeature(1516209864093)"
   ],
   "metadata": {
    "collapsed": false
   }
  },
  {
   "cell_type": "code",
   "execution_count": null,
   "outputs": [],
   "source": [],
   "metadata": {
    "collapsed": false
   }
  }
 ],
 "metadata": {
  "kernelspec": {
   "name": "dip2022",
   "language": "python",
   "display_name": "dip2022"
  },
  "language_info": {
   "codemirror_mode": {
    "name": "ipython",
    "version": 2
   },
   "file_extension": ".py",
   "mimetype": "text/x-python",
   "name": "python",
   "nbconvert_exporter": "python",
   "pygments_lexer": "ipython2",
   "version": "2.7.6"
  }
 },
 "nbformat": 4,
 "nbformat_minor": 0
}
