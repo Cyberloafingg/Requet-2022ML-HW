{
 "cells": [
  {
   "cell_type": "code",
   "execution_count": 4,
   "metadata": {
    "collapsed": true
   },
   "outputs": [],
   "source": [
    "import warnings\n",
    "import numpy as np\n",
    "warnings.filterwarnings(\"ignore\")\n",
    "import pandas as pd\n",
    "from sklearn.metrics import accuracy_score\n",
    "from sklearn.ensemble import RandomForestClassifier\n",
    "\n",
    "\n",
    "Tree_num=80\n",
    "\n",
    "\n",
    "train_file_nameA0='test_data/test_dataA0.csv'\n",
    "train_file_nameA1='test_data/test_dataA1.csv'\n",
    "train_file_nameA2='test_data/test_dataA2.csv'\n",
    "train_file_nameA3='test_data/test_dataA3.csv'\n",
    "\n",
    "A0=pd.read_csv(train_file_nameA0)\n",
    "A1=pd.read_csv(train_file_nameA1)\n",
    "A2=pd.read_csv(train_file_nameA2)\n",
    "A3=pd.read_csv(train_file_nameA3)\n",
    "Dataset_List = [A0,A1,A2,A3]\n",
    "name_list=[\"Status\", \"BuffWarning\", \"Resolution\"]\n",
    "acc_all = []\n",
    "for i in range(4):\n",
    "    acc_item = []\n",
    "    for j in range(-3,0):\n",
    "        train_data = Dataset_List[i].append(Dataset_List[(i+1)%4]).append(Dataset_List[(i+2)%4])\n",
    "        test_data = Dataset_List[(i+3)%4]\n",
    "        print(f'A{i}, A{(i+1)%4}, A{(i+2)%4} as train data, A{(i+3)%4} as test data, label = {name_list[j]}')\n",
    "\n",
    "        x_train = train_data.iloc[:,:-4]\n",
    "        y_train = train_data.iloc[:,j]\n",
    "\n",
    "        x_test = test_data.iloc[:,:-4]\n",
    "        y_test = test_data.iloc[:,j]\n",
    "        RF=RandomForestClassifier(n_estimators=Tree_num)\n",
    "        RF.fit(x_train,y_train)\n",
    "        y_pred=RF.predict(x_test)\n",
    "        accuracy=accuracy_score(y_pred,y_test)\n",
    "        acc_item.append(accuracy)\n",
    "    acc_all.append(acc_item)\n",
    "acc_mat = np.array(acc_all)\n",
    "print(f'{np.average(acc_mat,axis=0)}')\n"
   ]
  },
  {
   "cell_type": "code",
   "execution_count": 5,
   "outputs": [
    {
     "data": {
      "text/plain": "       label0        label1     label2  label3       label4    label5  label6  \\\n0           6  4.629428e+05  11.650978       8  1576862.875  9.220158      -1   \n1           6  4.726043e+05   6.821882       4  1257938.750  5.230437       8   \n2           2  8.152340e+05   2.856864       0        0.000  0.000000       7   \n3           2  1.299256e+06   3.112644       0        0.000  0.000000       6   \n4           3  1.562799e+06   5.031307       0        0.000  0.000000       5   \n...       ...           ...        ...     ...          ...       ...     ...   \n11124       0  0.000000e+00   0.000000       0        0.000  0.000000       0   \n11125       0  0.000000e+00   0.000000       0        0.000  0.000000       0   \n11126       0  0.000000e+00   0.000000       0        0.000  0.000000       0   \n11127       0  0.000000e+00   0.000000       0        0.000  0.000000       0   \n11128       0  0.000000e+00   0.000000       0        0.000  0.000000       0   \n\n             label7     label8  label9  ...  label114       label115  \\\n0     -1.000000e+00  -1.000000      -1  ...        -1      -1.000000   \n1      4.490580e+05  14.457896      10  ...        -1      -1.000000   \n2      4.240593e+05  11.918181       7  ...        -1      -1.000000   \n3      8.099863e+05   7.237536       4  ...        -1      -1.000000   \n4      1.263773e+06   7.888171       0  ...        -1      -1.000000   \n...             ...        ...     ...  ...       ...            ...   \n11124  0.000000e+00   0.000000       0  ...        17  884018.294118   \n11125  0.000000e+00   0.000000       0  ...        17  884018.294118   \n11126  0.000000e+00   0.000000       0  ...        14  822232.928571   \n11127  0.000000e+00   0.000000       0  ...        13  748100.076923   \n11128  0.000000e+00   0.000000       0  ...        13  748100.076923   \n\n        label116  label117       label118   label119  \\\n0      -1.000000        -1      -1.000000  -1.000000   \n1      -1.000000        -1      -1.000000  -1.000000   \n2      -1.000000        -1      -1.000000  -1.000000   \n3      -1.000000        -1      -1.000000  -1.000000   \n4      -1.000000        -1      -1.000000  -1.000000   \n...          ...       ...            ...        ...   \n11124  51.069417         6  822185.833333  11.036120   \n11125  51.069417         3  796124.333333   4.929644   \n11126  49.460778         0       0.000000   0.000000   \n11127  48.769905         0       0.000000   0.000000   \n11128  48.769905         0       0.000000   0.000000   \n\n                                           filename_time  status  BuffWarning  \\\n0      LabelDataSet/A0\\baseline_Jan17_exp_31_merged_l...       1            3   \n1      LabelDataSet/A0\\baseline_Jan17_exp_31_merged_l...       0            3   \n2      LabelDataSet/A0\\baseline_Jan17_exp_31_merged_l...       0            3   \n3      LabelDataSet/A0\\baseline_Jan17_exp_31_merged_l...       0            3   \n4      LabelDataSet/A0\\baseline_Jan17_exp_31_merged_l...       0            3   \n...                                                  ...     ...          ...   \n11124  LabelDataSet/A0\\movement_Mar20_exp_71_merged_l...       1            2   \n11125  LabelDataSet/A0\\movement_Mar20_exp_71_merged_l...       1            2   \n11126  LabelDataSet/A0\\movement_Mar20_exp_71_merged_l...       1            0   \n11127  LabelDataSet/A0\\movement_Mar20_exp_71_merged_l...       1            0   \n11128  LabelDataSet/A0\\movement_Mar20_exp_71_merged_l...       1            0   \n\n       Resolution  \n0               4  \n1               4  \n2               4  \n3               4  \n4               4  \n...           ...  \n11124           5  \n11125           5  \n11126           5  \n11127           5  \n11128           5  \n\n[11129 rows x 124 columns]",
      "text/html": "<div>\n<style scoped>\n    .dataframe tbody tr th:only-of-type {\n        vertical-align: middle;\n    }\n\n    .dataframe tbody tr th {\n        vertical-align: top;\n    }\n\n    .dataframe thead th {\n        text-align: right;\n    }\n</style>\n<table border=\"1\" class=\"dataframe\">\n  <thead>\n    <tr style=\"text-align: right;\">\n      <th></th>\n      <th>label0</th>\n      <th>label1</th>\n      <th>label2</th>\n      <th>label3</th>\n      <th>label4</th>\n      <th>label5</th>\n      <th>label6</th>\n      <th>label7</th>\n      <th>label8</th>\n      <th>label9</th>\n      <th>...</th>\n      <th>label114</th>\n      <th>label115</th>\n      <th>label116</th>\n      <th>label117</th>\n      <th>label118</th>\n      <th>label119</th>\n      <th>filename_time</th>\n      <th>status</th>\n      <th>BuffWarning</th>\n      <th>Resolution</th>\n    </tr>\n  </thead>\n  <tbody>\n    <tr>\n      <th>0</th>\n      <td>6</td>\n      <td>4.629428e+05</td>\n      <td>11.650978</td>\n      <td>8</td>\n      <td>1576862.875</td>\n      <td>9.220158</td>\n      <td>-1</td>\n      <td>-1.000000e+00</td>\n      <td>-1.000000</td>\n      <td>-1</td>\n      <td>...</td>\n      <td>-1</td>\n      <td>-1.000000</td>\n      <td>-1.000000</td>\n      <td>-1</td>\n      <td>-1.000000</td>\n      <td>-1.000000</td>\n      <td>LabelDataSet/A0\\baseline_Jan17_exp_31_merged_l...</td>\n      <td>1</td>\n      <td>3</td>\n      <td>4</td>\n    </tr>\n    <tr>\n      <th>1</th>\n      <td>6</td>\n      <td>4.726043e+05</td>\n      <td>6.821882</td>\n      <td>4</td>\n      <td>1257938.750</td>\n      <td>5.230437</td>\n      <td>8</td>\n      <td>4.490580e+05</td>\n      <td>14.457896</td>\n      <td>10</td>\n      <td>...</td>\n      <td>-1</td>\n      <td>-1.000000</td>\n      <td>-1.000000</td>\n      <td>-1</td>\n      <td>-1.000000</td>\n      <td>-1.000000</td>\n      <td>LabelDataSet/A0\\baseline_Jan17_exp_31_merged_l...</td>\n      <td>0</td>\n      <td>3</td>\n      <td>4</td>\n    </tr>\n    <tr>\n      <th>2</th>\n      <td>2</td>\n      <td>8.152340e+05</td>\n      <td>2.856864</td>\n      <td>0</td>\n      <td>0.000</td>\n      <td>0.000000</td>\n      <td>7</td>\n      <td>4.240593e+05</td>\n      <td>11.918181</td>\n      <td>7</td>\n      <td>...</td>\n      <td>-1</td>\n      <td>-1.000000</td>\n      <td>-1.000000</td>\n      <td>-1</td>\n      <td>-1.000000</td>\n      <td>-1.000000</td>\n      <td>LabelDataSet/A0\\baseline_Jan17_exp_31_merged_l...</td>\n      <td>0</td>\n      <td>3</td>\n      <td>4</td>\n    </tr>\n    <tr>\n      <th>3</th>\n      <td>2</td>\n      <td>1.299256e+06</td>\n      <td>3.112644</td>\n      <td>0</td>\n      <td>0.000</td>\n      <td>0.000000</td>\n      <td>6</td>\n      <td>8.099863e+05</td>\n      <td>7.237536</td>\n      <td>4</td>\n      <td>...</td>\n      <td>-1</td>\n      <td>-1.000000</td>\n      <td>-1.000000</td>\n      <td>-1</td>\n      <td>-1.000000</td>\n      <td>-1.000000</td>\n      <td>LabelDataSet/A0\\baseline_Jan17_exp_31_merged_l...</td>\n      <td>0</td>\n      <td>3</td>\n      <td>4</td>\n    </tr>\n    <tr>\n      <th>4</th>\n      <td>3</td>\n      <td>1.562799e+06</td>\n      <td>5.031307</td>\n      <td>0</td>\n      <td>0.000</td>\n      <td>0.000000</td>\n      <td>5</td>\n      <td>1.263773e+06</td>\n      <td>7.888171</td>\n      <td>0</td>\n      <td>...</td>\n      <td>-1</td>\n      <td>-1.000000</td>\n      <td>-1.000000</td>\n      <td>-1</td>\n      <td>-1.000000</td>\n      <td>-1.000000</td>\n      <td>LabelDataSet/A0\\baseline_Jan17_exp_31_merged_l...</td>\n      <td>0</td>\n      <td>3</td>\n      <td>4</td>\n    </tr>\n    <tr>\n      <th>...</th>\n      <td>...</td>\n      <td>...</td>\n      <td>...</td>\n      <td>...</td>\n      <td>...</td>\n      <td>...</td>\n      <td>...</td>\n      <td>...</td>\n      <td>...</td>\n      <td>...</td>\n      <td>...</td>\n      <td>...</td>\n      <td>...</td>\n      <td>...</td>\n      <td>...</td>\n      <td>...</td>\n      <td>...</td>\n      <td>...</td>\n      <td>...</td>\n      <td>...</td>\n      <td>...</td>\n    </tr>\n    <tr>\n      <th>11124</th>\n      <td>0</td>\n      <td>0.000000e+00</td>\n      <td>0.000000</td>\n      <td>0</td>\n      <td>0.000</td>\n      <td>0.000000</td>\n      <td>0</td>\n      <td>0.000000e+00</td>\n      <td>0.000000</td>\n      <td>0</td>\n      <td>...</td>\n      <td>17</td>\n      <td>884018.294118</td>\n      <td>51.069417</td>\n      <td>6</td>\n      <td>822185.833333</td>\n      <td>11.036120</td>\n      <td>LabelDataSet/A0\\movement_Mar20_exp_71_merged_l...</td>\n      <td>1</td>\n      <td>2</td>\n      <td>5</td>\n    </tr>\n    <tr>\n      <th>11125</th>\n      <td>0</td>\n      <td>0.000000e+00</td>\n      <td>0.000000</td>\n      <td>0</td>\n      <td>0.000</td>\n      <td>0.000000</td>\n      <td>0</td>\n      <td>0.000000e+00</td>\n      <td>0.000000</td>\n      <td>0</td>\n      <td>...</td>\n      <td>17</td>\n      <td>884018.294118</td>\n      <td>51.069417</td>\n      <td>3</td>\n      <td>796124.333333</td>\n      <td>4.929644</td>\n      <td>LabelDataSet/A0\\movement_Mar20_exp_71_merged_l...</td>\n      <td>1</td>\n      <td>2</td>\n      <td>5</td>\n    </tr>\n    <tr>\n      <th>11126</th>\n      <td>0</td>\n      <td>0.000000e+00</td>\n      <td>0.000000</td>\n      <td>0</td>\n      <td>0.000</td>\n      <td>0.000000</td>\n      <td>0</td>\n      <td>0.000000e+00</td>\n      <td>0.000000</td>\n      <td>0</td>\n      <td>...</td>\n      <td>14</td>\n      <td>822232.928571</td>\n      <td>49.460778</td>\n      <td>0</td>\n      <td>0.000000</td>\n      <td>0.000000</td>\n      <td>LabelDataSet/A0\\movement_Mar20_exp_71_merged_l...</td>\n      <td>1</td>\n      <td>0</td>\n      <td>5</td>\n    </tr>\n    <tr>\n      <th>11127</th>\n      <td>0</td>\n      <td>0.000000e+00</td>\n      <td>0.000000</td>\n      <td>0</td>\n      <td>0.000</td>\n      <td>0.000000</td>\n      <td>0</td>\n      <td>0.000000e+00</td>\n      <td>0.000000</td>\n      <td>0</td>\n      <td>...</td>\n      <td>13</td>\n      <td>748100.076923</td>\n      <td>48.769905</td>\n      <td>0</td>\n      <td>0.000000</td>\n      <td>0.000000</td>\n      <td>LabelDataSet/A0\\movement_Mar20_exp_71_merged_l...</td>\n      <td>1</td>\n      <td>0</td>\n      <td>5</td>\n    </tr>\n    <tr>\n      <th>11128</th>\n      <td>0</td>\n      <td>0.000000e+00</td>\n      <td>0.000000</td>\n      <td>0</td>\n      <td>0.000</td>\n      <td>0.000000</td>\n      <td>0</td>\n      <td>0.000000e+00</td>\n      <td>0.000000</td>\n      <td>0</td>\n      <td>...</td>\n      <td>13</td>\n      <td>748100.076923</td>\n      <td>48.769905</td>\n      <td>0</td>\n      <td>0.000000</td>\n      <td>0.000000</td>\n      <td>LabelDataSet/A0\\movement_Mar20_exp_71_merged_l...</td>\n      <td>1</td>\n      <td>0</td>\n      <td>5</td>\n    </tr>\n  </tbody>\n</table>\n<p>11129 rows × 124 columns</p>\n</div>"
     },
     "execution_count": 5,
     "metadata": {},
     "output_type": "execute_result"
    }
   ],
   "source": [
    "A0"
   ],
   "metadata": {
    "collapsed": false
   }
  },
  {
   "cell_type": "code",
   "execution_count": 6,
   "outputs": [
    {
     "data": {
      "text/plain": "       label0        label1     label2  label3    label4    label5  label6  \\\n0          -1 -1.000000e+00  -1.000000      -1      -1.0 -1.000000      -1   \n1          -1 -1.000000e+00  -1.000000      -1      -1.0 -1.000000      -1   \n2           7  1.300174e+06  10.197564       2  244836.0  0.581025      -1   \n3           5  1.756366e+06   9.815730       1  313632.0  0.400936      -1   \n4           3  1.908288e+06   5.214122       1  418176.0  0.229129       9   \n...       ...           ...        ...     ...       ...       ...     ...   \n15196       0  0.000000e+00   0.000000       0       0.0  0.000000       0   \n15197       0  0.000000e+00   0.000000       0       0.0  0.000000       0   \n15198       0  0.000000e+00   0.000000       0       0.0  0.000000       0   \n15199       0  0.000000e+00   0.000000       0       0.0  0.000000       0   \n15200       0  0.000000e+00   0.000000       0       0.0  0.000000       0   \n\n             label7     label8  label9  ...  label114       label115  \\\n0     -1.000000e+00  -1.000000      -1  ...        -1      -1.000000   \n1     -1.000000e+00  -1.000000      -1  ...        -1      -1.000000   \n2     -1.000000e+00  -1.000000      -1  ...        -1      -1.000000   \n3     -1.000000e+00  -1.000000      -1  ...        -1      -1.000000   \n4      1.474084e+06  13.805909       3  ...        -1      -1.000000   \n...             ...        ...     ...  ...       ...            ...   \n15196  0.000000e+00   0.000000       3  ...        15  608643.000000   \n15197  0.000000e+00   0.000000       0  ...        15  608643.000000   \n15198  0.000000e+00   0.000000       0  ...        14  591900.142857   \n15199  0.000000e+00   0.000000       0  ...        14  591900.142857   \n15200  0.000000e+00   0.000000       0  ...        14  591900.142857   \n\n        label116  label117       label118   label119  \\\n0      -1.000000        -1      -1.000000  -1.000000   \n1      -1.000000        -1      -1.000000  -1.000000   \n2      -1.000000        -1      -1.000000  -1.000000   \n3      -1.000000        -1      -1.000000  -1.000000   \n4      -1.000000        -1      -1.000000  -1.000000   \n...          ...       ...            ...        ...   \n15196  98.220031        14  351180.214286  81.192738   \n15197  98.220031        14  351180.214286  81.192738   \n15198  78.229562        14  351180.214286  81.192738   \n15199  78.229562        13  370366.230769  76.343861   \n15200  78.229562        13  370366.230769  76.343861   \n\n                                           filename_time  status  BuffWarning  \\\n0      LabelDataSet/A1\\baseline_Jan17_exp_32_merged_l...       1            3   \n1      LabelDataSet/A1\\baseline_Jan17_exp_32_merged_l...       1            3   \n2      LabelDataSet/A1\\baseline_Jan17_exp_32_merged_l...       0            3   \n3      LabelDataSet/A1\\baseline_Jan17_exp_32_merged_l...       0            3   \n4      LabelDataSet/A1\\baseline_Jan17_exp_32_merged_l...       0            3   \n...                                                  ...     ...          ...   \n15196  LabelDataSet/A1\\movement_Mar20_exp_73_merged_l...       0            2   \n15197  LabelDataSet/A1\\movement_Mar20_exp_73_merged_l...       0            2   \n15198  LabelDataSet/A1\\movement_Mar20_exp_73_merged_l...       1            2   \n15199  LabelDataSet/A1\\movement_Mar20_exp_73_merged_l...       1            2   \n15200  LabelDataSet/A1\\movement_Mar20_exp_73_merged_l...       1            2   \n\n       Resolution  \n0               4  \n1               4  \n2               4  \n3               4  \n4               4  \n...           ...  \n15196           5  \n15197           5  \n15198           5  \n15199           5  \n15200           5  \n\n[15201 rows x 124 columns]",
      "text/html": "<div>\n<style scoped>\n    .dataframe tbody tr th:only-of-type {\n        vertical-align: middle;\n    }\n\n    .dataframe tbody tr th {\n        vertical-align: top;\n    }\n\n    .dataframe thead th {\n        text-align: right;\n    }\n</style>\n<table border=\"1\" class=\"dataframe\">\n  <thead>\n    <tr style=\"text-align: right;\">\n      <th></th>\n      <th>label0</th>\n      <th>label1</th>\n      <th>label2</th>\n      <th>label3</th>\n      <th>label4</th>\n      <th>label5</th>\n      <th>label6</th>\n      <th>label7</th>\n      <th>label8</th>\n      <th>label9</th>\n      <th>...</th>\n      <th>label114</th>\n      <th>label115</th>\n      <th>label116</th>\n      <th>label117</th>\n      <th>label118</th>\n      <th>label119</th>\n      <th>filename_time</th>\n      <th>status</th>\n      <th>BuffWarning</th>\n      <th>Resolution</th>\n    </tr>\n  </thead>\n  <tbody>\n    <tr>\n      <th>0</th>\n      <td>-1</td>\n      <td>-1.000000e+00</td>\n      <td>-1.000000</td>\n      <td>-1</td>\n      <td>-1.0</td>\n      <td>-1.000000</td>\n      <td>-1</td>\n      <td>-1.000000e+00</td>\n      <td>-1.000000</td>\n      <td>-1</td>\n      <td>...</td>\n      <td>-1</td>\n      <td>-1.000000</td>\n      <td>-1.000000</td>\n      <td>-1</td>\n      <td>-1.000000</td>\n      <td>-1.000000</td>\n      <td>LabelDataSet/A1\\baseline_Jan17_exp_32_merged_l...</td>\n      <td>1</td>\n      <td>3</td>\n      <td>4</td>\n    </tr>\n    <tr>\n      <th>1</th>\n      <td>-1</td>\n      <td>-1.000000e+00</td>\n      <td>-1.000000</td>\n      <td>-1</td>\n      <td>-1.0</td>\n      <td>-1.000000</td>\n      <td>-1</td>\n      <td>-1.000000e+00</td>\n      <td>-1.000000</td>\n      <td>-1</td>\n      <td>...</td>\n      <td>-1</td>\n      <td>-1.000000</td>\n      <td>-1.000000</td>\n      <td>-1</td>\n      <td>-1.000000</td>\n      <td>-1.000000</td>\n      <td>LabelDataSet/A1\\baseline_Jan17_exp_32_merged_l...</td>\n      <td>1</td>\n      <td>3</td>\n      <td>4</td>\n    </tr>\n    <tr>\n      <th>2</th>\n      <td>7</td>\n      <td>1.300174e+06</td>\n      <td>10.197564</td>\n      <td>2</td>\n      <td>244836.0</td>\n      <td>0.581025</td>\n      <td>-1</td>\n      <td>-1.000000e+00</td>\n      <td>-1.000000</td>\n      <td>-1</td>\n      <td>...</td>\n      <td>-1</td>\n      <td>-1.000000</td>\n      <td>-1.000000</td>\n      <td>-1</td>\n      <td>-1.000000</td>\n      <td>-1.000000</td>\n      <td>LabelDataSet/A1\\baseline_Jan17_exp_32_merged_l...</td>\n      <td>0</td>\n      <td>3</td>\n      <td>4</td>\n    </tr>\n    <tr>\n      <th>3</th>\n      <td>5</td>\n      <td>1.756366e+06</td>\n      <td>9.815730</td>\n      <td>1</td>\n      <td>313632.0</td>\n      <td>0.400936</td>\n      <td>-1</td>\n      <td>-1.000000e+00</td>\n      <td>-1.000000</td>\n      <td>-1</td>\n      <td>...</td>\n      <td>-1</td>\n      <td>-1.000000</td>\n      <td>-1.000000</td>\n      <td>-1</td>\n      <td>-1.000000</td>\n      <td>-1.000000</td>\n      <td>LabelDataSet/A1\\baseline_Jan17_exp_32_merged_l...</td>\n      <td>0</td>\n      <td>3</td>\n      <td>4</td>\n    </tr>\n    <tr>\n      <th>4</th>\n      <td>3</td>\n      <td>1.908288e+06</td>\n      <td>5.214122</td>\n      <td>1</td>\n      <td>418176.0</td>\n      <td>0.229129</td>\n      <td>9</td>\n      <td>1.474084e+06</td>\n      <td>13.805909</td>\n      <td>3</td>\n      <td>...</td>\n      <td>-1</td>\n      <td>-1.000000</td>\n      <td>-1.000000</td>\n      <td>-1</td>\n      <td>-1.000000</td>\n      <td>-1.000000</td>\n      <td>LabelDataSet/A1\\baseline_Jan17_exp_32_merged_l...</td>\n      <td>0</td>\n      <td>3</td>\n      <td>4</td>\n    </tr>\n    <tr>\n      <th>...</th>\n      <td>...</td>\n      <td>...</td>\n      <td>...</td>\n      <td>...</td>\n      <td>...</td>\n      <td>...</td>\n      <td>...</td>\n      <td>...</td>\n      <td>...</td>\n      <td>...</td>\n      <td>...</td>\n      <td>...</td>\n      <td>...</td>\n      <td>...</td>\n      <td>...</td>\n      <td>...</td>\n      <td>...</td>\n      <td>...</td>\n      <td>...</td>\n      <td>...</td>\n      <td>...</td>\n    </tr>\n    <tr>\n      <th>15196</th>\n      <td>0</td>\n      <td>0.000000e+00</td>\n      <td>0.000000</td>\n      <td>0</td>\n      <td>0.0</td>\n      <td>0.000000</td>\n      <td>0</td>\n      <td>0.000000e+00</td>\n      <td>0.000000</td>\n      <td>3</td>\n      <td>...</td>\n      <td>15</td>\n      <td>608643.000000</td>\n      <td>98.220031</td>\n      <td>14</td>\n      <td>351180.214286</td>\n      <td>81.192738</td>\n      <td>LabelDataSet/A1\\movement_Mar20_exp_73_merged_l...</td>\n      <td>0</td>\n      <td>2</td>\n      <td>5</td>\n    </tr>\n    <tr>\n      <th>15197</th>\n      <td>0</td>\n      <td>0.000000e+00</td>\n      <td>0.000000</td>\n      <td>0</td>\n      <td>0.0</td>\n      <td>0.000000</td>\n      <td>0</td>\n      <td>0.000000e+00</td>\n      <td>0.000000</td>\n      <td>0</td>\n      <td>...</td>\n      <td>15</td>\n      <td>608643.000000</td>\n      <td>98.220031</td>\n      <td>14</td>\n      <td>351180.214286</td>\n      <td>81.192738</td>\n      <td>LabelDataSet/A1\\movement_Mar20_exp_73_merged_l...</td>\n      <td>0</td>\n      <td>2</td>\n      <td>5</td>\n    </tr>\n    <tr>\n      <th>15198</th>\n      <td>0</td>\n      <td>0.000000e+00</td>\n      <td>0.000000</td>\n      <td>0</td>\n      <td>0.0</td>\n      <td>0.000000</td>\n      <td>0</td>\n      <td>0.000000e+00</td>\n      <td>0.000000</td>\n      <td>0</td>\n      <td>...</td>\n      <td>14</td>\n      <td>591900.142857</td>\n      <td>78.229562</td>\n      <td>14</td>\n      <td>351180.214286</td>\n      <td>81.192738</td>\n      <td>LabelDataSet/A1\\movement_Mar20_exp_73_merged_l...</td>\n      <td>1</td>\n      <td>2</td>\n      <td>5</td>\n    </tr>\n    <tr>\n      <th>15199</th>\n      <td>0</td>\n      <td>0.000000e+00</td>\n      <td>0.000000</td>\n      <td>0</td>\n      <td>0.0</td>\n      <td>0.000000</td>\n      <td>0</td>\n      <td>0.000000e+00</td>\n      <td>0.000000</td>\n      <td>0</td>\n      <td>...</td>\n      <td>14</td>\n      <td>591900.142857</td>\n      <td>78.229562</td>\n      <td>13</td>\n      <td>370366.230769</td>\n      <td>76.343861</td>\n      <td>LabelDataSet/A1\\movement_Mar20_exp_73_merged_l...</td>\n      <td>1</td>\n      <td>2</td>\n      <td>5</td>\n    </tr>\n    <tr>\n      <th>15200</th>\n      <td>0</td>\n      <td>0.000000e+00</td>\n      <td>0.000000</td>\n      <td>0</td>\n      <td>0.0</td>\n      <td>0.000000</td>\n      <td>0</td>\n      <td>0.000000e+00</td>\n      <td>0.000000</td>\n      <td>0</td>\n      <td>...</td>\n      <td>14</td>\n      <td>591900.142857</td>\n      <td>78.229562</td>\n      <td>13</td>\n      <td>370366.230769</td>\n      <td>76.343861</td>\n      <td>LabelDataSet/A1\\movement_Mar20_exp_73_merged_l...</td>\n      <td>1</td>\n      <td>2</td>\n      <td>5</td>\n    </tr>\n  </tbody>\n</table>\n<p>15201 rows × 124 columns</p>\n</div>"
     },
     "execution_count": 6,
     "metadata": {},
     "output_type": "execute_result"
    }
   ],
   "source": [
    "A1"
   ],
   "metadata": {
    "collapsed": false
   }
  },
  {
   "cell_type": "code",
   "execution_count": 13,
   "outputs": [
    {
     "name": "stderr",
     "output_type": "stream",
     "text": [
      "C:\\Users\\cyberloafing\\AppData\\Local\\Temp\\ipykernel_25316\\3630687528.py:1: FutureWarning: The frame.append method is deprecated and will be removed from pandas in a future version. Use pandas.concat instead.\n",
      "  train_data = A0.append(A1).append(A2)\n"
     ]
    }
   ],
   "source": [
    "train_data = A0.append(A1).append(A2)"
   ],
   "metadata": {
    "collapsed": false
   }
  },
  {
   "cell_type": "code",
   "execution_count": 21,
   "outputs": [],
   "source": [
    "x_train = train_data.iloc[:,:-4]"
   ],
   "metadata": {
    "collapsed": false
   }
  },
  {
   "cell_type": "code",
   "execution_count": 22,
   "outputs": [],
   "source": [
    "y_train = train_data.iloc[:,-3]"
   ],
   "metadata": {
    "collapsed": false
   }
  },
  {
   "cell_type": "code",
   "execution_count": 23,
   "outputs": [],
   "source": [
    "x_test = A3.iloc[:,:-4]\n",
    "y_test = A3.iloc[:,-3]"
   ],
   "metadata": {
    "collapsed": false
   }
  },
  {
   "cell_type": "code",
   "execution_count": 24,
   "outputs": [],
   "source": [
    "RF=RandomForestClassifier(n_estimators=Tree_num)\n",
    "RF.fit(x_train,y_train)\n",
    "y_pred=RF.predict(x_test)\n",
    "accuracy=accuracy_score(y_pred,y_test)"
   ],
   "metadata": {
    "collapsed": false
   }
  },
  {
   "cell_type": "code",
   "execution_count": 25,
   "outputs": [
    {
     "data": {
      "text/plain": "0.9364793899719445"
     },
     "execution_count": 25,
     "metadata": {},
     "output_type": "execute_result"
    }
   ],
   "source": [
    "accuracy"
   ],
   "metadata": {
    "collapsed": false
   }
  },
  {
   "cell_type": "code",
   "execution_count": 26,
   "outputs": [],
   "source": [
    "x_train = train_data.iloc[:,:-4]\n",
    "y_train = train_data.iloc[:,-2]\n",
    "x_test = A3.iloc[:,:-4]\n",
    "y_test = A3.iloc[:,-2]\n",
    "RF=RandomForestClassifier(n_estimators=Tree_num)\n",
    "RF.fit(x_train,y_train)\n",
    "y_pred=RF.predict(x_test)\n",
    "accuracy=accuracy_score(y_pred,y_test)"
   ],
   "metadata": {
    "collapsed": false
   }
  },
  {
   "cell_type": "code",
   "execution_count": 27,
   "outputs": [
    {
     "data": {
      "text/plain": "0.8665563628515934"
     },
     "execution_count": 27,
     "metadata": {},
     "output_type": "execute_result"
    }
   ],
   "source": [
    "accuracy"
   ],
   "metadata": {
    "collapsed": false
   }
  },
  {
   "cell_type": "code",
   "execution_count": 28,
   "outputs": [],
   "source": [
    "x_train = train_data.iloc[:,:-4]\n",
    "y_train = train_data.iloc[:,-1]\n",
    "x_test = A3.iloc[:,:-4]\n",
    "y_test = A3.iloc[:,-1]\n",
    "RF=RandomForestClassifier(n_estimators=Tree_num)\n",
    "RF.fit(x_train,y_train)\n",
    "y_pred=RF.predict(x_test)\n",
    "accuracy=accuracy_score(y_pred,y_test)"
   ],
   "metadata": {
    "collapsed": false
   }
  },
  {
   "cell_type": "code",
   "execution_count": 26,
   "outputs": [
    {
     "name": "stdout",
     "output_type": "stream",
     "text": [
      "A0, A1, A2 as train data, A3 as test data, label = Status, accuracy = 0.9373426372203438\n",
      "A0, A1, A2 as train data, A3 as test data, label = BuffWarning, accuracy = 0.8738220271922883\n",
      "A0, A1, A2 as train data, A3 as test data, label = Resolution, accuracy = 0.6931156031940148\n",
      "A1, A2, A3 as train data, A0 as test data, label = Status, accuracy = 0.9071794410998293\n",
      "A1, A2, A3 as train data, A0 as test data, label = BuffWarning, accuracy = 0.8162458441908528\n",
      "A1, A2, A3 as train data, A0 as test data, label = Resolution, accuracy = 0.6078713271632672\n",
      "A2, A3, A0 as train data, A1 as test data, label = Status, accuracy = 0.8849417801460431\n",
      "A2, A3, A0 as train data, A1 as test data, label = BuffWarning, accuracy = 0.8038944806262746\n",
      "A2, A3, A0 as train data, A1 as test data, label = Resolution, accuracy = 0.6376554174067496\n",
      "A3, A0, A1 as train data, A2 as test data, label = Status, accuracy = 0.9256321731827937\n",
      "A3, A0, A1 as train data, A2 as test data, label = BuffWarning, accuracy = 0.8500513203321826\n",
      "A3, A0, A1 as train data, A2 as test data, label = Resolution, accuracy = 0.6637118596622189\n",
      "[0.91377401 0.83600342 0.65058855]\n"
     ]
    }
   ],
   "source": [
    "import warnings\n",
    "import numpy as np\n",
    "warnings.filterwarnings(\"ignore\")\n",
    "import pandas as pd\n",
    "from sklearn.metrics import accuracy_score\n",
    "from sklearn.ensemble import RandomForestClassifier\n",
    "\n",
    "Tree_num=80\n",
    "train_file_nameA0='TrainData/train_A0_buffer.csv'\n",
    "train_file_nameA1='TrainData/train_A1_buffer.csv'\n",
    "train_file_nameA2='TrainData/train_A2_buffer.csv'\n",
    "train_file_nameA3='TrainData/train_A3_buffer.csv'\n",
    "\n",
    "A0=pd.read_csv(train_file_nameA0)\n",
    "A1=pd.read_csv(train_file_nameA1)\n",
    "A2=pd.read_csv(train_file_nameA2)\n",
    "A3=pd.read_csv(train_file_nameA3)\n",
    "Dataset_List = [A0,A1,A2,A3]\n",
    "name_list=[\"Status\", \"BuffWarning\", \"Resolution\"]\n",
    "acc_all = []\n",
    "for i in range(4):\n",
    "    acc_item = []\n",
    "    for j in range(-3,0):\n",
    "        train_data = Dataset_List[i].append(Dataset_List[(i+1)%4]).append(Dataset_List[(i+2)%4])\n",
    "        test_data = Dataset_List[(i+3)%4]\n",
    "\n",
    "\n",
    "        x_train = pd.concat([train_data.iloc[:,:-10],train_data.iloc[:,125:127]],axis=1)\n",
    "        y_train = train_data.iloc[:,j]\n",
    "\n",
    "        x_test = pd.concat([test_data.iloc[:,:-10],test_data.iloc[:,125:127]],axis=1)\n",
    "        y_test = test_data.iloc[:,j]\n",
    "        RF=RandomForestClassifier(n_estimators=Tree_num,criterion=\"entropy\")\n",
    "        RF.fit(x_train,y_train)\n",
    "        y_pred=RF.predict(x_test)\n",
    "        accuracy=accuracy_score(y_pred,y_test)\n",
    "        print(f'A{i}, A{(i+1)%4}, A{(i+2)%4} as train data, A{(i+3)%4} as test data, label = {name_list[j]}, accuracy = {accuracy}')\n",
    "        acc_item.append(accuracy)\n",
    "    acc_all.append(acc_item)\n",
    "acc_mat = np.array(acc_all)\n",
    "print(f'{np.average(acc_mat,axis=0)}')"
   ],
   "metadata": {
    "collapsed": false
   }
  },
  {
   "cell_type": "code",
   "execution_count": 29,
   "outputs": [
    {
     "data": {
      "text/plain": "array([0.00676738, 0.00712183, 0.00306734])"
     },
     "execution_count": 29,
     "metadata": {},
     "output_type": "execute_result"
    }
   ],
   "source": [
    "indicators = np.array([0.92,0.842,0.669])\n",
    "my = [0.91377401, 0.83600342 ,0.66694795]\n",
    "(indicators - my)/indicators"
   ],
   "metadata": {
    "collapsed": false
   }
  },
  {
   "cell_type": "code",
   "execution_count": 25,
   "outputs": [
    {
     "name": "stdout",
     "output_type": "stream",
     "text": [
      "A0, A1, A2 as train data, A3 as test data, label = Resolution, accuracy = 0.7272411999306398\n",
      "A1, A2, A3 as train data, A0 as test data, label = Resolution, accuracy = 0.6244471250502613\n",
      "A2, A3, A0 as train data, A1 as test data, label = Resolution, accuracy = 0.6463666140968094\n",
      "A3, A0, A1 as train data, A2 as test data, label = Resolution, accuracy = 0.6697368421052632\n",
      "[0.66694795]\n"
     ]
    }
   ],
   "source": [
    "import warnings\n",
    "import numpy as np\n",
    "warnings.filterwarnings(\"ignore\")\n",
    "import pandas as pd\n",
    "from sklearn.metrics import accuracy_score\n",
    "from sklearn.ensemble import RandomForestClassifier\n",
    "\n",
    "Tree_num=80\n",
    "train_file_nameA0='TrainData/train_A0_resolution.csv'\n",
    "train_file_nameA1='TrainData/train_A1_resolution.csv'\n",
    "train_file_nameA2='TrainData/train_A2_resolution.csv'\n",
    "train_file_nameA3='TrainData/train_A3_resolution.csv'\n",
    "\n",
    "A0=pd.read_csv(train_file_nameA0)\n",
    "A1=pd.read_csv(train_file_nameA1)\n",
    "A2=pd.read_csv(train_file_nameA2)\n",
    "A3=pd.read_csv(train_file_nameA3)\n",
    "Dataset_List = [A0,A1,A2,A3]\n",
    "name_list=[\"Status\", \"BuffWarning\", \"Resolution\"]\n",
    "acc_all = []\n",
    "for i in range(4):\n",
    "    acc_item = []\n",
    "    for j in range(-1,0):\n",
    "        train_data = Dataset_List[i].append(Dataset_List[(i+1)%4]).append(Dataset_List[(i+2)%4])\n",
    "        test_data = Dataset_List[(i+3)%4]\n",
    "\n",
    "        x_train = pd.concat([train_data.iloc[:,:-10],train_data.iloc[:,125:127]],axis=1)\n",
    "        y_train = train_data.iloc[:,j]\n",
    "\n",
    "        x_test = pd.concat([test_data.iloc[:,:-10],test_data.iloc[:,125:127]],axis=1)\n",
    "        y_test = test_data.iloc[:,j]\n",
    "        RF=RandomForestClassifier(n_estimators=Tree_num,criterion=\"entropy\")\n",
    "        RF.fit(x_train,y_train)\n",
    "        y_pred=RF.predict(x_test)\n",
    "        accuracy=accuracy_score(y_pred,y_test)\n",
    "        print(f'A{i}, A{(i+1)%4}, A{(i+2)%4} as train data, A{(i+3)%4} as test data, label = {name_list[j]}, accuracy = {accuracy}')\n",
    "        acc_item.append(accuracy)\n",
    "    acc_all.append(acc_item)\n",
    "acc_mat = np.array(acc_all)\n",
    "print(f'{np.average(acc_mat,axis=0)}')"
   ],
   "metadata": {
    "collapsed": false
   }
  },
  {
   "cell_type": "code",
   "execution_count": 37,
   "outputs": [
    {
     "data": {
      "text/plain": "array([[0.93604777, 0.86950579, 0.68088627],\n       [0.90879684, 0.80806901, 0.60544523],\n       [0.88559963, 0.79961845, 0.62390632],\n       [0.92245964, 0.84902491, 0.65662032]])"
     },
     "execution_count": 37,
     "metadata": {},
     "output_type": "execute_result"
    }
   ],
   "source": [
    "acc_mat"
   ],
   "metadata": {
    "collapsed": false
   }
  },
  {
   "cell_type": "code",
   "execution_count": 39,
   "outputs": [
    {
     "name": "stdout",
     "output_type": "stream",
     "text": [
      "[0.91322597 0.83155454 0.64171454]\n"
     ]
    }
   ],
   "source": [],
   "metadata": {
    "collapsed": false
   }
  },
  {
   "cell_type": "code",
   "execution_count": 43,
   "outputs": [
    {
     "data": {
      "text/plain": "array([0.00721947, 0.00853323, 0.03579586])"
     },
     "execution_count": 43,
     "metadata": {},
     "output_type": "execute_result"
    }
   ],
   "source": [
    "indicators = np.array([0.92,0.842,0.669])\n",
    "(indicators - np.average(acc_mat,axis=0))/indicators"
   ],
   "metadata": {
    "collapsed": false
   }
  },
  {
   "cell_type": "code",
   "execution_count": 2,
   "outputs": [],
   "source": [
    "import pandas as pd\n",
    "train_file_nameA0='TrainData/train_A0_buffer.csv'\n",
    "train_file_nameA1='TrainData/train_A0_buffer.csv'\n",
    "train_file_nameA2='TrainData/train_A0_buffer.csv'\n",
    "train_file_nameA3='TrainData/train_A0_buffer.csv'\n",
    "\n",
    "A0=pd.read_csv(train_file_nameA0)\n",
    "A1=pd.read_csv(train_file_nameA1)\n",
    "A2=pd.read_csv(train_file_nameA2)\n",
    "A3=pd.read_csv(train_file_nameA3)"
   ],
   "metadata": {
    "collapsed": false
   }
  },
  {
   "cell_type": "code",
   "execution_count": 17,
   "outputs": [
    {
     "data": {
      "text/plain": "       f0            f1         f2  f3           f4        f5  f6  \\\n0       6  4.629428e+05  11.650978   8  1576862.875  9.220158  -1   \n1       6  4.726043e+05   6.821882   4  1257938.750  5.230437   8   \n2       2  8.152340e+05   2.856864   0        0.000  0.000000   7   \n3       2  1.299256e+06   3.112644   0        0.000  0.000000   6   \n4       3  1.562799e+06   5.031307   0        0.000  0.000000   5   \n...    ..           ...        ...  ..          ...       ...  ..   \n11124   0  0.000000e+00   0.000000   0        0.000  0.000000   0   \n11125   0  0.000000e+00   0.000000   0        0.000  0.000000   0   \n11126   0  0.000000e+00   0.000000   0        0.000  0.000000   0   \n11127   0  0.000000e+00   0.000000   0        0.000  0.000000   0   \n11128   0  0.000000e+00   0.000000   0        0.000  0.000000   0   \n\n                 f7         f8  f9  ...  f112  f113  f114           f115  \\\n0     -1.000000e+00  -1.000000  -1  ...  -1.0  -1.0    -1      -1.000000   \n1      4.490580e+05  14.457896  10  ...  -1.0  -1.0    -1      -1.000000   \n2      4.240593e+05  11.918181   7  ...  -1.0  -1.0    -1      -1.000000   \n3      8.099863e+05   7.237536   4  ...  -1.0  -1.0    -1      -1.000000   \n4      1.263773e+06   7.888171   0  ...  -1.0  -1.0    -1      -1.000000   \n...             ...        ...  ..  ...   ...   ...   ...            ...   \n11124  0.000000e+00   0.000000   0  ...   0.0   0.0    17  884018.294118   \n11125  0.000000e+00   0.000000   0  ...   0.0   0.0    17  884018.294118   \n11126  0.000000e+00   0.000000   0  ...   0.0   0.0    14  822232.928571   \n11127  0.000000e+00   0.000000   0  ...   0.0   0.0    13  748100.076923   \n11128  0.000000e+00   0.000000   0  ...   0.0   0.0    13  748100.076923   \n\n            f116  f117           f118       f119  get_size  chunk_size  \n0      -1.000000    -1      -1.000000  -1.000000    1370.0   1439710.0  \n1      -1.000000    -1      -1.000000  -1.000000    1258.0    190758.0  \n2      -1.000000    -1      -1.000000  -1.000000    1258.0    190758.0  \n3      -1.000000    -1      -1.000000  -1.000000    1371.0   1969338.0  \n4      -1.000000    -1      -1.000000  -1.000000    1371.0   2089884.0  \n...          ...   ...            ...        ...       ...         ...  \n11124  51.069417     6  822185.833333  11.036120    1282.0    525148.0  \n11125  51.069417     3  796124.333333   4.929644    1282.0    525148.0  \n11126  49.460778     0       0.000000   0.000000    1282.0    525148.0  \n11127  48.769905     0       0.000000   0.000000    1282.0    525148.0  \n11128  48.769905     0       0.000000   0.000000    1282.0    525148.0  \n\n[11129 rows x 122 columns]",
      "text/html": "<div>\n<style scoped>\n    .dataframe tbody tr th:only-of-type {\n        vertical-align: middle;\n    }\n\n    .dataframe tbody tr th {\n        vertical-align: top;\n    }\n\n    .dataframe thead th {\n        text-align: right;\n    }\n</style>\n<table border=\"1\" class=\"dataframe\">\n  <thead>\n    <tr style=\"text-align: right;\">\n      <th></th>\n      <th>f0</th>\n      <th>f1</th>\n      <th>f2</th>\n      <th>f3</th>\n      <th>f4</th>\n      <th>f5</th>\n      <th>f6</th>\n      <th>f7</th>\n      <th>f8</th>\n      <th>f9</th>\n      <th>...</th>\n      <th>f112</th>\n      <th>f113</th>\n      <th>f114</th>\n      <th>f115</th>\n      <th>f116</th>\n      <th>f117</th>\n      <th>f118</th>\n      <th>f119</th>\n      <th>get_size</th>\n      <th>chunk_size</th>\n    </tr>\n  </thead>\n  <tbody>\n    <tr>\n      <th>0</th>\n      <td>6</td>\n      <td>4.629428e+05</td>\n      <td>11.650978</td>\n      <td>8</td>\n      <td>1576862.875</td>\n      <td>9.220158</td>\n      <td>-1</td>\n      <td>-1.000000e+00</td>\n      <td>-1.000000</td>\n      <td>-1</td>\n      <td>...</td>\n      <td>-1.0</td>\n      <td>-1.0</td>\n      <td>-1</td>\n      <td>-1.000000</td>\n      <td>-1.000000</td>\n      <td>-1</td>\n      <td>-1.000000</td>\n      <td>-1.000000</td>\n      <td>1370.0</td>\n      <td>1439710.0</td>\n    </tr>\n    <tr>\n      <th>1</th>\n      <td>6</td>\n      <td>4.726043e+05</td>\n      <td>6.821882</td>\n      <td>4</td>\n      <td>1257938.750</td>\n      <td>5.230437</td>\n      <td>8</td>\n      <td>4.490580e+05</td>\n      <td>14.457896</td>\n      <td>10</td>\n      <td>...</td>\n      <td>-1.0</td>\n      <td>-1.0</td>\n      <td>-1</td>\n      <td>-1.000000</td>\n      <td>-1.000000</td>\n      <td>-1</td>\n      <td>-1.000000</td>\n      <td>-1.000000</td>\n      <td>1258.0</td>\n      <td>190758.0</td>\n    </tr>\n    <tr>\n      <th>2</th>\n      <td>2</td>\n      <td>8.152340e+05</td>\n      <td>2.856864</td>\n      <td>0</td>\n      <td>0.000</td>\n      <td>0.000000</td>\n      <td>7</td>\n      <td>4.240593e+05</td>\n      <td>11.918181</td>\n      <td>7</td>\n      <td>...</td>\n      <td>-1.0</td>\n      <td>-1.0</td>\n      <td>-1</td>\n      <td>-1.000000</td>\n      <td>-1.000000</td>\n      <td>-1</td>\n      <td>-1.000000</td>\n      <td>-1.000000</td>\n      <td>1258.0</td>\n      <td>190758.0</td>\n    </tr>\n    <tr>\n      <th>3</th>\n      <td>2</td>\n      <td>1.299256e+06</td>\n      <td>3.112644</td>\n      <td>0</td>\n      <td>0.000</td>\n      <td>0.000000</td>\n      <td>6</td>\n      <td>8.099863e+05</td>\n      <td>7.237536</td>\n      <td>4</td>\n      <td>...</td>\n      <td>-1.0</td>\n      <td>-1.0</td>\n      <td>-1</td>\n      <td>-1.000000</td>\n      <td>-1.000000</td>\n      <td>-1</td>\n      <td>-1.000000</td>\n      <td>-1.000000</td>\n      <td>1371.0</td>\n      <td>1969338.0</td>\n    </tr>\n    <tr>\n      <th>4</th>\n      <td>3</td>\n      <td>1.562799e+06</td>\n      <td>5.031307</td>\n      <td>0</td>\n      <td>0.000</td>\n      <td>0.000000</td>\n      <td>5</td>\n      <td>1.263773e+06</td>\n      <td>7.888171</td>\n      <td>0</td>\n      <td>...</td>\n      <td>-1.0</td>\n      <td>-1.0</td>\n      <td>-1</td>\n      <td>-1.000000</td>\n      <td>-1.000000</td>\n      <td>-1</td>\n      <td>-1.000000</td>\n      <td>-1.000000</td>\n      <td>1371.0</td>\n      <td>2089884.0</td>\n    </tr>\n    <tr>\n      <th>...</th>\n      <td>...</td>\n      <td>...</td>\n      <td>...</td>\n      <td>...</td>\n      <td>...</td>\n      <td>...</td>\n      <td>...</td>\n      <td>...</td>\n      <td>...</td>\n      <td>...</td>\n      <td>...</td>\n      <td>...</td>\n      <td>...</td>\n      <td>...</td>\n      <td>...</td>\n      <td>...</td>\n      <td>...</td>\n      <td>...</td>\n      <td>...</td>\n      <td>...</td>\n      <td>...</td>\n    </tr>\n    <tr>\n      <th>11124</th>\n      <td>0</td>\n      <td>0.000000e+00</td>\n      <td>0.000000</td>\n      <td>0</td>\n      <td>0.000</td>\n      <td>0.000000</td>\n      <td>0</td>\n      <td>0.000000e+00</td>\n      <td>0.000000</td>\n      <td>0</td>\n      <td>...</td>\n      <td>0.0</td>\n      <td>0.0</td>\n      <td>17</td>\n      <td>884018.294118</td>\n      <td>51.069417</td>\n      <td>6</td>\n      <td>822185.833333</td>\n      <td>11.036120</td>\n      <td>1282.0</td>\n      <td>525148.0</td>\n    </tr>\n    <tr>\n      <th>11125</th>\n      <td>0</td>\n      <td>0.000000e+00</td>\n      <td>0.000000</td>\n      <td>0</td>\n      <td>0.000</td>\n      <td>0.000000</td>\n      <td>0</td>\n      <td>0.000000e+00</td>\n      <td>0.000000</td>\n      <td>0</td>\n      <td>...</td>\n      <td>0.0</td>\n      <td>0.0</td>\n      <td>17</td>\n      <td>884018.294118</td>\n      <td>51.069417</td>\n      <td>3</td>\n      <td>796124.333333</td>\n      <td>4.929644</td>\n      <td>1282.0</td>\n      <td>525148.0</td>\n    </tr>\n    <tr>\n      <th>11126</th>\n      <td>0</td>\n      <td>0.000000e+00</td>\n      <td>0.000000</td>\n      <td>0</td>\n      <td>0.000</td>\n      <td>0.000000</td>\n      <td>0</td>\n      <td>0.000000e+00</td>\n      <td>0.000000</td>\n      <td>0</td>\n      <td>...</td>\n      <td>0.0</td>\n      <td>0.0</td>\n      <td>14</td>\n      <td>822232.928571</td>\n      <td>49.460778</td>\n      <td>0</td>\n      <td>0.000000</td>\n      <td>0.000000</td>\n      <td>1282.0</td>\n      <td>525148.0</td>\n    </tr>\n    <tr>\n      <th>11127</th>\n      <td>0</td>\n      <td>0.000000e+00</td>\n      <td>0.000000</td>\n      <td>0</td>\n      <td>0.000</td>\n      <td>0.000000</td>\n      <td>0</td>\n      <td>0.000000e+00</td>\n      <td>0.000000</td>\n      <td>0</td>\n      <td>...</td>\n      <td>0.0</td>\n      <td>0.0</td>\n      <td>13</td>\n      <td>748100.076923</td>\n      <td>48.769905</td>\n      <td>0</td>\n      <td>0.000000</td>\n      <td>0.000000</td>\n      <td>1282.0</td>\n      <td>525148.0</td>\n    </tr>\n    <tr>\n      <th>11128</th>\n      <td>0</td>\n      <td>0.000000e+00</td>\n      <td>0.000000</td>\n      <td>0</td>\n      <td>0.000</td>\n      <td>0.000000</td>\n      <td>0</td>\n      <td>0.000000e+00</td>\n      <td>0.000000</td>\n      <td>0</td>\n      <td>...</td>\n      <td>0.0</td>\n      <td>0.0</td>\n      <td>13</td>\n      <td>748100.076923</td>\n      <td>48.769905</td>\n      <td>0</td>\n      <td>0.000000</td>\n      <td>0.000000</td>\n      <td>1282.0</td>\n      <td>525148.0</td>\n    </tr>\n  </tbody>\n</table>\n<p>11129 rows × 122 columns</p>\n</div>"
     },
     "execution_count": 17,
     "metadata": {},
     "output_type": "execute_result"
    }
   ],
   "source": [
    "pd.concat([A0.iloc[:,:-10],A0.iloc[:,125:127]],axis=1)"
   ],
   "metadata": {
    "collapsed": false
   }
  },
  {
   "cell_type": "code",
   "execution_count": 7,
   "outputs": [
    {
     "data": {
      "text/plain": "       f0            f1         f2  f3           f4        f5  f6  \\\n0       6  4.629428e+05  11.650978   8  1576862.875  9.220158  -1   \n1       6  4.726043e+05   6.821882   4  1257938.750  5.230437   8   \n2       2  8.152340e+05   2.856864   0        0.000  0.000000   7   \n3       2  1.299256e+06   3.112644   0        0.000  0.000000   6   \n4       3  1.562799e+06   5.031307   0        0.000  0.000000   5   \n...    ..           ...        ...  ..          ...       ...  ..   \n11124   0  0.000000e+00   0.000000   0        0.000  0.000000   0   \n11125   0  0.000000e+00   0.000000   0        0.000  0.000000   0   \n11126   0  0.000000e+00   0.000000   0        0.000  0.000000   0   \n11127   0  0.000000e+00   0.000000   0        0.000  0.000000   0   \n11128   0  0.000000e+00   0.000000   0        0.000  0.000000   0   \n\n                 f7         f8  f9  ...       f110  f111  f112  f113  f114  \\\n0     -1.000000e+00  -1.000000  -1  ...  -1.000000    -1  -1.0  -1.0    -1   \n1      4.490580e+05  14.457896  10  ...  -1.000000    -1  -1.0  -1.0    -1   \n2      4.240593e+05  11.918181   7  ...  -1.000000    -1  -1.0  -1.0    -1   \n3      8.099863e+05   7.237536   4  ...  -1.000000    -1  -1.0  -1.0    -1   \n4      1.263773e+06   7.888171   0  ...  -1.000000    -1  -1.0  -1.0    -1   \n...             ...        ...  ..  ...        ...   ...   ...   ...   ...   \n11124  0.000000e+00   0.000000   0  ...  49.460778     0   0.0   0.0    17   \n11125  0.000000e+00   0.000000   0  ...  49.460778     0   0.0   0.0    17   \n11126  0.000000e+00   0.000000   0  ...  48.769905     0   0.0   0.0    14   \n11127  0.000000e+00   0.000000   0  ...  48.769905     0   0.0   0.0    13   \n11128  0.000000e+00   0.000000   0  ...  47.096989     0   0.0   0.0    13   \n\n                f115       f116  f117           f118       f119  \n0          -1.000000  -1.000000    -1      -1.000000  -1.000000  \n1          -1.000000  -1.000000    -1      -1.000000  -1.000000  \n2          -1.000000  -1.000000    -1      -1.000000  -1.000000  \n3          -1.000000  -1.000000    -1      -1.000000  -1.000000  \n4          -1.000000  -1.000000    -1      -1.000000  -1.000000  \n...              ...        ...   ...            ...        ...  \n11124  884018.294118  51.069417     6  822185.833333  11.036120  \n11125  884018.294118  51.069417     3  796124.333333   4.929644  \n11126  822232.928571  49.460778     0       0.000000   0.000000  \n11127  748100.076923  48.769905     0       0.000000   0.000000  \n11128  748100.076923  48.769905     0       0.000000   0.000000  \n\n[11129 rows x 120 columns]",
      "text/html": "<div>\n<style scoped>\n    .dataframe tbody tr th:only-of-type {\n        vertical-align: middle;\n    }\n\n    .dataframe tbody tr th {\n        vertical-align: top;\n    }\n\n    .dataframe thead th {\n        text-align: right;\n    }\n</style>\n<table border=\"1\" class=\"dataframe\">\n  <thead>\n    <tr style=\"text-align: right;\">\n      <th></th>\n      <th>f0</th>\n      <th>f1</th>\n      <th>f2</th>\n      <th>f3</th>\n      <th>f4</th>\n      <th>f5</th>\n      <th>f6</th>\n      <th>f7</th>\n      <th>f8</th>\n      <th>f9</th>\n      <th>...</th>\n      <th>f110</th>\n      <th>f111</th>\n      <th>f112</th>\n      <th>f113</th>\n      <th>f114</th>\n      <th>f115</th>\n      <th>f116</th>\n      <th>f117</th>\n      <th>f118</th>\n      <th>f119</th>\n    </tr>\n  </thead>\n  <tbody>\n    <tr>\n      <th>0</th>\n      <td>6</td>\n      <td>4.629428e+05</td>\n      <td>11.650978</td>\n      <td>8</td>\n      <td>1576862.875</td>\n      <td>9.220158</td>\n      <td>-1</td>\n      <td>-1.000000e+00</td>\n      <td>-1.000000</td>\n      <td>-1</td>\n      <td>...</td>\n      <td>-1.000000</td>\n      <td>-1</td>\n      <td>-1.0</td>\n      <td>-1.0</td>\n      <td>-1</td>\n      <td>-1.000000</td>\n      <td>-1.000000</td>\n      <td>-1</td>\n      <td>-1.000000</td>\n      <td>-1.000000</td>\n    </tr>\n    <tr>\n      <th>1</th>\n      <td>6</td>\n      <td>4.726043e+05</td>\n      <td>6.821882</td>\n      <td>4</td>\n      <td>1257938.750</td>\n      <td>5.230437</td>\n      <td>8</td>\n      <td>4.490580e+05</td>\n      <td>14.457896</td>\n      <td>10</td>\n      <td>...</td>\n      <td>-1.000000</td>\n      <td>-1</td>\n      <td>-1.0</td>\n      <td>-1.0</td>\n      <td>-1</td>\n      <td>-1.000000</td>\n      <td>-1.000000</td>\n      <td>-1</td>\n      <td>-1.000000</td>\n      <td>-1.000000</td>\n    </tr>\n    <tr>\n      <th>2</th>\n      <td>2</td>\n      <td>8.152340e+05</td>\n      <td>2.856864</td>\n      <td>0</td>\n      <td>0.000</td>\n      <td>0.000000</td>\n      <td>7</td>\n      <td>4.240593e+05</td>\n      <td>11.918181</td>\n      <td>7</td>\n      <td>...</td>\n      <td>-1.000000</td>\n      <td>-1</td>\n      <td>-1.0</td>\n      <td>-1.0</td>\n      <td>-1</td>\n      <td>-1.000000</td>\n      <td>-1.000000</td>\n      <td>-1</td>\n      <td>-1.000000</td>\n      <td>-1.000000</td>\n    </tr>\n    <tr>\n      <th>3</th>\n      <td>2</td>\n      <td>1.299256e+06</td>\n      <td>3.112644</td>\n      <td>0</td>\n      <td>0.000</td>\n      <td>0.000000</td>\n      <td>6</td>\n      <td>8.099863e+05</td>\n      <td>7.237536</td>\n      <td>4</td>\n      <td>...</td>\n      <td>-1.000000</td>\n      <td>-1</td>\n      <td>-1.0</td>\n      <td>-1.0</td>\n      <td>-1</td>\n      <td>-1.000000</td>\n      <td>-1.000000</td>\n      <td>-1</td>\n      <td>-1.000000</td>\n      <td>-1.000000</td>\n    </tr>\n    <tr>\n      <th>4</th>\n      <td>3</td>\n      <td>1.562799e+06</td>\n      <td>5.031307</td>\n      <td>0</td>\n      <td>0.000</td>\n      <td>0.000000</td>\n      <td>5</td>\n      <td>1.263773e+06</td>\n      <td>7.888171</td>\n      <td>0</td>\n      <td>...</td>\n      <td>-1.000000</td>\n      <td>-1</td>\n      <td>-1.0</td>\n      <td>-1.0</td>\n      <td>-1</td>\n      <td>-1.000000</td>\n      <td>-1.000000</td>\n      <td>-1</td>\n      <td>-1.000000</td>\n      <td>-1.000000</td>\n    </tr>\n    <tr>\n      <th>...</th>\n      <td>...</td>\n      <td>...</td>\n      <td>...</td>\n      <td>...</td>\n      <td>...</td>\n      <td>...</td>\n      <td>...</td>\n      <td>...</td>\n      <td>...</td>\n      <td>...</td>\n      <td>...</td>\n      <td>...</td>\n      <td>...</td>\n      <td>...</td>\n      <td>...</td>\n      <td>...</td>\n      <td>...</td>\n      <td>...</td>\n      <td>...</td>\n      <td>...</td>\n      <td>...</td>\n    </tr>\n    <tr>\n      <th>11124</th>\n      <td>0</td>\n      <td>0.000000e+00</td>\n      <td>0.000000</td>\n      <td>0</td>\n      <td>0.000</td>\n      <td>0.000000</td>\n      <td>0</td>\n      <td>0.000000e+00</td>\n      <td>0.000000</td>\n      <td>0</td>\n      <td>...</td>\n      <td>49.460778</td>\n      <td>0</td>\n      <td>0.0</td>\n      <td>0.0</td>\n      <td>17</td>\n      <td>884018.294118</td>\n      <td>51.069417</td>\n      <td>6</td>\n      <td>822185.833333</td>\n      <td>11.036120</td>\n    </tr>\n    <tr>\n      <th>11125</th>\n      <td>0</td>\n      <td>0.000000e+00</td>\n      <td>0.000000</td>\n      <td>0</td>\n      <td>0.000</td>\n      <td>0.000000</td>\n      <td>0</td>\n      <td>0.000000e+00</td>\n      <td>0.000000</td>\n      <td>0</td>\n      <td>...</td>\n      <td>49.460778</td>\n      <td>0</td>\n      <td>0.0</td>\n      <td>0.0</td>\n      <td>17</td>\n      <td>884018.294118</td>\n      <td>51.069417</td>\n      <td>3</td>\n      <td>796124.333333</td>\n      <td>4.929644</td>\n    </tr>\n    <tr>\n      <th>11126</th>\n      <td>0</td>\n      <td>0.000000e+00</td>\n      <td>0.000000</td>\n      <td>0</td>\n      <td>0.000</td>\n      <td>0.000000</td>\n      <td>0</td>\n      <td>0.000000e+00</td>\n      <td>0.000000</td>\n      <td>0</td>\n      <td>...</td>\n      <td>48.769905</td>\n      <td>0</td>\n      <td>0.0</td>\n      <td>0.0</td>\n      <td>14</td>\n      <td>822232.928571</td>\n      <td>49.460778</td>\n      <td>0</td>\n      <td>0.000000</td>\n      <td>0.000000</td>\n    </tr>\n    <tr>\n      <th>11127</th>\n      <td>0</td>\n      <td>0.000000e+00</td>\n      <td>0.000000</td>\n      <td>0</td>\n      <td>0.000</td>\n      <td>0.000000</td>\n      <td>0</td>\n      <td>0.000000e+00</td>\n      <td>0.000000</td>\n      <td>0</td>\n      <td>...</td>\n      <td>48.769905</td>\n      <td>0</td>\n      <td>0.0</td>\n      <td>0.0</td>\n      <td>13</td>\n      <td>748100.076923</td>\n      <td>48.769905</td>\n      <td>0</td>\n      <td>0.000000</td>\n      <td>0.000000</td>\n    </tr>\n    <tr>\n      <th>11128</th>\n      <td>0</td>\n      <td>0.000000e+00</td>\n      <td>0.000000</td>\n      <td>0</td>\n      <td>0.000</td>\n      <td>0.000000</td>\n      <td>0</td>\n      <td>0.000000e+00</td>\n      <td>0.000000</td>\n      <td>0</td>\n      <td>...</td>\n      <td>47.096989</td>\n      <td>0</td>\n      <td>0.0</td>\n      <td>0.0</td>\n      <td>13</td>\n      <td>748100.076923</td>\n      <td>48.769905</td>\n      <td>0</td>\n      <td>0.000000</td>\n      <td>0.000000</td>\n    </tr>\n  </tbody>\n</table>\n<p>11129 rows × 120 columns</p>\n</div>"
     },
     "execution_count": 7,
     "metadata": {},
     "output_type": "execute_result"
    }
   ],
   "source": [
    "A0.iloc[:,:-10]"
   ],
   "metadata": {
    "collapsed": false
   }
  },
  {
   "cell_type": "code",
   "execution_count": 16,
   "outputs": [
    {
     "data": {
      "text/plain": "       get_size  chunk_size\n0        1370.0   1439710.0\n1        1258.0    190758.0\n2        1258.0    190758.0\n3        1371.0   1969338.0\n4        1371.0   2089884.0\n...         ...         ...\n11124    1282.0    525148.0\n11125    1282.0    525148.0\n11126    1282.0    525148.0\n11127    1282.0    525148.0\n11128    1282.0    525148.0\n\n[11129 rows x 2 columns]",
      "text/html": "<div>\n<style scoped>\n    .dataframe tbody tr th:only-of-type {\n        vertical-align: middle;\n    }\n\n    .dataframe tbody tr th {\n        vertical-align: top;\n    }\n\n    .dataframe thead th {\n        text-align: right;\n    }\n</style>\n<table border=\"1\" class=\"dataframe\">\n  <thead>\n    <tr style=\"text-align: right;\">\n      <th></th>\n      <th>get_size</th>\n      <th>chunk_size</th>\n    </tr>\n  </thead>\n  <tbody>\n    <tr>\n      <th>0</th>\n      <td>1370.0</td>\n      <td>1439710.0</td>\n    </tr>\n    <tr>\n      <th>1</th>\n      <td>1258.0</td>\n      <td>190758.0</td>\n    </tr>\n    <tr>\n      <th>2</th>\n      <td>1258.0</td>\n      <td>190758.0</td>\n    </tr>\n    <tr>\n      <th>3</th>\n      <td>1371.0</td>\n      <td>1969338.0</td>\n    </tr>\n    <tr>\n      <th>4</th>\n      <td>1371.0</td>\n      <td>2089884.0</td>\n    </tr>\n    <tr>\n      <th>...</th>\n      <td>...</td>\n      <td>...</td>\n    </tr>\n    <tr>\n      <th>11124</th>\n      <td>1282.0</td>\n      <td>525148.0</td>\n    </tr>\n    <tr>\n      <th>11125</th>\n      <td>1282.0</td>\n      <td>525148.0</td>\n    </tr>\n    <tr>\n      <th>11126</th>\n      <td>1282.0</td>\n      <td>525148.0</td>\n    </tr>\n    <tr>\n      <th>11127</th>\n      <td>1282.0</td>\n      <td>525148.0</td>\n    </tr>\n    <tr>\n      <th>11128</th>\n      <td>1282.0</td>\n      <td>525148.0</td>\n    </tr>\n  </tbody>\n</table>\n<p>11129 rows × 2 columns</p>\n</div>"
     },
     "execution_count": 16,
     "metadata": {},
     "output_type": "execute_result"
    }
   ],
   "source": [
    "A0.iloc[:,125:127]"
   ],
   "metadata": {
    "collapsed": false
   }
  },
  {
   "cell_type": "code",
   "execution_count": null,
   "outputs": [],
   "source": [],
   "metadata": {
    "collapsed": false
   }
  }
 ],
 "metadata": {
  "kernelspec": {
   "display_name": "dip2022",
   "language": "python",
   "name": "dip2022"
  },
  "language_info": {
   "codemirror_mode": {
    "name": "ipython",
    "version": 2
   },
   "file_extension": ".py",
   "mimetype": "text/x-python",
   "name": "python",
   "nbconvert_exporter": "python",
   "pygments_lexer": "ipython2",
   "version": "2.7.6"
  }
 },
 "nbformat": 4,
 "nbformat_minor": 0
}
