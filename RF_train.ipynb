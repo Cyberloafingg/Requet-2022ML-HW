{
 "cells": [
  {
   "cell_type": "markdown",
   "source": [
    "## 训练生成关于Buffer的模型"
   ],
   "metadata": {
    "collapsed": false
   }
  },
  {
   "cell_type": "code",
   "execution_count": 31,
   "outputs": [
    {
     "name": "stdout",
     "output_type": "stream",
     "text": [
      "A0, A1, A2 as train data, A3 as test data, label = Status, accuracy = 0.937054888137544\n",
      "A0, A1, A2 as train data, A3 as test data, label = BuffWarning, accuracy = 0.8725271563196892\n",
      "A1, A2, A3 as train data, A0 as test data, label = Status, accuracy = 0.9118519184113577\n",
      "A1, A2, A3 as train data, A0 as test data, label = BuffWarning, accuracy = 0.8114835115464103\n",
      "A2, A3, A0 as train data, A1 as test data, label = Status, accuracy = 0.886915334517466\n",
      "A2, A3, A0 as train data, A1 as test data, label = BuffWarning, accuracy = 0.8056048944148412\n",
      "A3, A0, A1 as train data, A2 as test data, label = Status, accuracy = 0.9229261920313521\n",
      "A3, A0, A1 as train data, A2 as test data, label = BuffWarning, accuracy = 0.8527573014836242\n",
      "[0.91468708 0.83559322]\n"
     ]
    }
   ],
   "source": [
    "import warnings\n",
    "import numpy as np\n",
    "warnings.filterwarnings(\"ignore\")\n",
    "import pandas as pd\n",
    "from sklearn.metrics import accuracy_score\n",
    "from sklearn.ensemble import RandomForestClassifier\n",
    "import joblib\n",
    "Tree_num=80\n",
    "train_file_nameA0='TrainData/train_A0_buffer.csv'\n",
    "train_file_nameA1='TrainData/train_A1_buffer.csv'\n",
    "train_file_nameA2='TrainData/train_A2_buffer.csv'\n",
    "train_file_nameA3='TrainData/train_A3_buffer.csv'\n",
    "\n",
    "A0=pd.read_csv(train_file_nameA0)\n",
    "A1=pd.read_csv(train_file_nameA1)\n",
    "A2=pd.read_csv(train_file_nameA2)\n",
    "A3=pd.read_csv(train_file_nameA3)\n",
    "Dataset_List = [A0,A1,A2,A3]\n",
    "label_list=[\"Status\", \"BuffWarning\", \"Resolution\"]\n",
    "acc_all = []\n",
    "for i in range(4):\n",
    "    acc_item = []\n",
    "    for j in range(-3,-1):\n",
    "        train_data = Dataset_List[i].append(Dataset_List[(i+1)%4]).append(Dataset_List[(i+2)%4])\n",
    "        test_data = Dataset_List[(i+3)%4]\n",
    "\n",
    "\n",
    "        x_train = pd.concat([train_data.iloc[:,:-10],train_data.iloc[:,125:127]],axis=1)\n",
    "        y_train = train_data.iloc[:,j]\n",
    "\n",
    "        x_test = pd.concat([test_data.iloc[:,:-10],test_data.iloc[:,125:127]],axis=1)\n",
    "        y_test = test_data.iloc[:,j]\n",
    "\n",
    "        rf=RandomForestClassifier(n_estimators=Tree_num, criterion=\"entropy\")\n",
    "        rf.fit(x_train, y_train)\n",
    "        y_pred=rf.predict(x_test)\n",
    "        accuracy=accuracy_score(y_pred,y_test)\n",
    "        print(f'A{i}, A{(i+1)%4}, A{(i+2)%4} as train data, A{(i+3)%4} as test data, label = {label_list[j]}, accuracy = {accuracy}')\n",
    "        joblib.dump(rf, f'Model/RFModel_A{i}A{(i+1)%4}A{(i+2)%4}_{label_list[j]}_test.pkl', compress=3)\n",
    "        acc_item.append(accuracy)\n",
    "    acc_all.append(acc_item)\n",
    "acc_mat = np.array(acc_all)\n",
    "print(f'{np.average(acc_mat,axis=0)}')"
   ],
   "metadata": {
    "collapsed": false
   }
  },
  {
   "cell_type": "code",
   "execution_count": 29,
   "outputs": [
    {
     "data": {
      "text/plain": "array([0.00676738, 0.00712183, 0.00306734])"
     },
     "execution_count": 29,
     "metadata": {},
     "output_type": "execute_result"
    }
   ],
   "source": [
    "indicators = np.array([0.92,0.842,0.669])\n",
    "my = [0.91377401, 0.83600342 ,0.66694795]\n",
    "(indicators - my)/indicators"
   ],
   "metadata": {
    "collapsed": false
   }
  },
  {
   "cell_type": "markdown",
   "source": [
    "## 训练生成关于resolution的模型"
   ],
   "metadata": {
    "collapsed": false
   }
  },
  {
   "cell_type": "code",
   "execution_count": 32,
   "outputs": [
    {
     "name": "stdout",
     "output_type": "stream",
     "text": [
      "A0, A1, A2 as train data, A3 as test data, label = Resolution, accuracy = 0.7331368129009884\n",
      "A1, A2, A3 as train data, A0 as test data, label = Resolution, accuracy = 0.6302774427020507\n",
      "A2, A3, A0 as train data, A1 as test data, label = Resolution, accuracy = 0.6445468882688342\n",
      "A3, A0, A1 as train data, A2 as test data, label = Resolution, accuracy = 0.6684210526315789\n",
      "[0.92292619 0.8527573  0.73313681 0.63027744 0.64454689 0.66842105]\n"
     ]
    }
   ],
   "source": [
    "import warnings\n",
    "import numpy as np\n",
    "warnings.filterwarnings(\"ignore\")\n",
    "import pandas as pd\n",
    "from sklearn.metrics import accuracy_score\n",
    "from sklearn.ensemble import RandomForestClassifier\n",
    "\n",
    "Tree_num=80\n",
    "train_file_nameA0='TrainData/train_A0_resolution.csv'\n",
    "train_file_nameA1='TrainData/train_A1_resolution.csv'\n",
    "train_file_nameA2='TrainData/train_A2_resolution.csv'\n",
    "train_file_nameA3='TrainData/train_A3_resolution.csv'\n",
    "\n",
    "A0=pd.read_csv(train_file_nameA0)\n",
    "A1=pd.read_csv(train_file_nameA1)\n",
    "A2=pd.read_csv(train_file_nameA2)\n",
    "A3=pd.read_csv(train_file_nameA3)\n",
    "Dataset_List = [A0,A1,A2,A3]\n",
    "label_list=[\"Status\", \"BuffWarning\", \"Resolution\"]\n",
    "acc_all = []\n",
    "for i in range(4):\n",
    "    for j in range(-1,0):\n",
    "        train_data = Dataset_List[i].append(Dataset_List[(i+1)%4]).append(Dataset_List[(i+2)%4])\n",
    "        test_data = Dataset_List[(i+3)%4]\n",
    "\n",
    "        x_train = pd.concat([train_data.iloc[:,:-10],train_data.iloc[:,125:127]],axis=1)\n",
    "        y_train = train_data.iloc[:,j]\n",
    "\n",
    "        x_test = pd.concat([test_data.iloc[:,:-10],test_data.iloc[:,125:127]],axis=1)\n",
    "        y_test = test_data.iloc[:,j]\n",
    "        rf=RandomForestClassifier(n_estimators=Tree_num, criterion=\"entropy\")\n",
    "        rf.fit(x_train, y_train)\n",
    "        y_pred=rf.predict(x_test)\n",
    "        accuracy=accuracy_score(y_pred,y_test)\n",
    "        print(f'A{i}, A{(i+1)%4}, A{(i+2)%4} as train data, A{(i+3)%4} as test data, label = {label_list[j]}, accuracy = {accuracy}')\n",
    "        joblib.dump(rf, f'Model/RFModel_A{i}A{(i+1)%4}A{(i+2)%4}_{label_list[j]}_test.pkl', compress=3)\n",
    "        acc_item.append(accuracy)\n",
    "    acc_all.append(acc_item)\n",
    "acc_mat = np.array(acc_all)\n",
    "print(f'{np.average(acc_mat,axis=0)}')"
   ],
   "metadata": {
    "collapsed": false
   }
  },
  {
   "cell_type": "code",
   "execution_count": null,
   "outputs": [],
   "source": [
    "x_train.shape"
   ],
   "metadata": {
    "collapsed": false,
    "pycharm": {
     "is_executing": true
    }
   }
  },
  {
   "cell_type": "code",
   "execution_count": null,
   "outputs": [],
   "source": [],
   "metadata": {
    "collapsed": false
   }
  }
 ],
 "metadata": {
  "kernelspec": {
   "display_name": "dip2022",
   "language": "python",
   "name": "dip2022"
  },
  "language_info": {
   "codemirror_mode": {
    "name": "ipython",
    "version": 2
   },
   "file_extension": ".py",
   "mimetype": "text/x-python",
   "name": "python",
   "nbconvert_exporter": "python",
   "pygments_lexer": "ipython2",
   "version": "2.7.6"
  }
 },
 "nbformat": 4,
 "nbformat_minor": 0
}
