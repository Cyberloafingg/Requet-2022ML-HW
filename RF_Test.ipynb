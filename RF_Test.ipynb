{
 "cells": [
  {
   "cell_type": "markdown",
   "source": [
    "## 1. 数据载入"
   ],
   "metadata": {
    "collapsed": false
   }
  },
  {
   "cell_type": "code",
   "execution_count": 68,
   "outputs": [],
   "source": [
    "import pandas as pd\n",
    "import joblib\n",
    "from sklearn.metrics import accuracy_score,precision_score,recall_score\n",
    "import numpy as np\n",
    "import warnings\n",
    "warnings.filterwarnings(\"ignore\")\n",
    "\n",
    "train_file_nameA0='TrainData/train_A0_buffer.csv'\n",
    "train_file_nameA1='TrainData/train_A1_buffer.csv'\n",
    "train_file_nameA2='TrainData/train_A2_buffer.csv'\n",
    "train_file_nameA3='TrainData/train_A3_buffer.csv'\n",
    "\n",
    "A0=pd.read_csv(train_file_nameA0)\n",
    "A1=pd.read_csv(train_file_nameA1)\n",
    "A2=pd.read_csv(train_file_nameA2)\n",
    "A3=pd.read_csv(train_file_nameA3)\n",
    "\n",
    "Buffer_Test_List = [A0, A1, A2, A3]\n",
    "\n",
    "train_file_nameA0='TrainData/train_A0_resolution.csv'\n",
    "train_file_nameA1='TrainData/train_A1_resolution.csv'\n",
    "train_file_nameA2='TrainData/train_A2_resolution.csv'\n",
    "train_file_nameA3='TrainData/train_A3_resolution.csv'\n",
    "\n",
    "A0=pd.read_csv(train_file_nameA0)\n",
    "A1=pd.read_csv(train_file_nameA1)\n",
    "A2=pd.read_csv(train_file_nameA2)\n",
    "A3=pd.read_csv(train_file_nameA3)\n",
    "Resolution_Test_List = [A0, A1, A2, A3]\n",
    "\n",
    "label_list=[\"Status\", \"BufferWarning\", \"Resolution\"]\n",
    "acc_all = []\n",
    "pre_all=[]\n",
    "rec_all=[]\n",
    "bfw_pre,bfw_rec = np.zeros((2,)) ,np.zeros((2,))\n",
    "bfs_pre,bfs_rec = np.zeros((4,)) ,np.zeros((4,))\n",
    "reso_pre,reso_rec = np.zeros((6,)) ,np.zeros((6,))"
   ],
   "metadata": {
    "collapsed": false
   }
  },
  {
   "cell_type": "markdown",
   "source": [
    "## 2. 进行预测"
   ],
   "metadata": {
    "collapsed": false
   }
  },
  {
   "cell_type": "code",
   "execution_count": 69,
   "outputs": [
    {
     "name": "stdout",
     "output_type": "stream",
     "text": [
      "A0, A1, A2 as train data, A3 as test data, label = Status, accuracy = 0.9354003309114453\n",
      "A0, A1, A2 as train data, A3 as test data, label = BufferWarning, accuracy = 0.8734623408387886\n",
      "A0, A1, A2 as train data, A3 as test data, label = Resolution, accuracy = 0.7310560083232183\n",
      "A1, A2, A3 as train data, A0 as test data, label = Status, accuracy = 0.9062808877706892\n",
      "A1, A2, A3 as train data, A0 as test data, label = BufferWarning, accuracy = 0.8144487375325725\n",
      "A1, A2, A3 as train data, A0 as test data, label = Resolution, accuracy = 0.6280659429030961\n",
      "A2, A3, A0 as train data, A1 as test data, label = Status, accuracy = 0.8832313663574765\n",
      "A2, A3, A0 as train data, A1 as test data, label = BufferWarning, accuracy = 0.8056048944148412\n",
      "A2, A3, A0 as train data, A1 as test data, label = Resolution, accuracy = 0.645881353876016\n",
      "A3, A0, A1 as train data, A2 as test data, label = Status, accuracy = 0.9223663338620882\n",
      "A3, A0, A1 as train data, A2 as test data, label = BufferWarning, accuracy = 0.8537837081272744\n",
      "A3, A0, A1 as train data, A2 as test data, label = Resolution, accuracy = 0.6661654135338346\n",
      "--------------|---------------|---------------|-----------|\n",
      "Type\t\t  |BufferWarning  |BufferStatus   |Resolution |\n",
      "--------------|---------------|---------------|-----------|\n",
      "Paper Accuracy|0.92\t\t\t  |0.842\t\t  |0.669\t  |\n",
      "--------------|---------------|---------------|-----------|\n",
      "My Accuracy   |0.912\t\t  |0.837\t\t  |0.668\t  |\n",
      "--------------|---------------|---------------|-----------|\n",
      "Error         |0.009\t\t  |0.006\t\t  |0.002\t  |\n",
      "--------------|---------------|---------------|-----------|\n"
     ]
    }
   ],
   "source": [
    "for i in range(4):\n",
    "    acc_item = []\n",
    "    for j in range(-3,0):\n",
    "        if j==-1:\n",
    "            test_data = Resolution_Test_List[(i + 3) % 4]\n",
    "        else:\n",
    "            test_data = Buffer_Test_List[(i + 3) % 4]\n",
    "        X_test = pd.concat([test_data.iloc[:, :-10], test_data.iloc[:, 125:127]], axis=1)\n",
    "        Y_test = test_data.iloc[:, j]\n",
    "        rf=joblib.load(f'Model/RFModel_A{i}A{(i+1)%4}A{(i+2)%4}_{label_list[j]}.pkl')\n",
    "        Y_pred = rf.predict(X_test)\n",
    "        accuracy = accuracy_score(Y_pred, Y_test)\n",
    "        precision = precision_score(Y_pred, Y_test, average=None)\n",
    "        recall = recall_score(Y_pred, Y_test, average=None)\n",
    "        if j==-3:\n",
    "            bfw_pre += precision\n",
    "            bfw_rec += recall\n",
    "        if j==-2:\n",
    "            bfs_pre += precision\n",
    "            bfs_rec += recall\n",
    "        if j==-1:\n",
    "            if precision.shape[0] == 7:\n",
    "                reso_pre += precision[0:6]\n",
    "                reso_rec += recall[0:6]\n",
    "            else:\n",
    "                reso_pre += precision\n",
    "                reso_rec += recall\n",
    "        print(f'A{i}, A{(i+1)%4}, A{(i+2)%4} as train data, A{(i+3)%4} as test data, label = {label_list[j]}, accuracy = {accuracy}')\n",
    "        acc_item.append(accuracy)\n",
    "    acc_all.append(acc_item)\n",
    "acc_mat = np.array(acc_all)\n",
    "paper_accuracy = np.array([0.92,0.842,0.669])\n",
    "my_accuracy = np.average(acc_mat,axis=0)\n",
    "error = (paper_accuracy - my_accuracy)/paper_accuracy\n",
    "print('--------------|---------------|---------------|-----------|')\n",
    "print(f'Type\\t\\t  |BufferWarning  |BufferStatus   |Resolution |')\n",
    "print('--------------|---------------|---------------|-----------|')\n",
    "print(f'Paper Accuracy|{round(paper_accuracy[0],3)}\\t\\t\\t  |{round(paper_accuracy[1],3)}\\t\\t  |{round(paper_accuracy[2],3)}\\t  |')\n",
    "print('--------------|---------------|---------------|-----------|')\n",
    "print(f'My Accuracy   |{round(my_accuracy[0],3)}\\t\\t  |{round(my_accuracy[1],3)}\\t\\t  |{round(my_accuracy[2],3)}\\t  |')\n",
    "print('--------------|---------------|---------------|-----------|')\n",
    "print(f'Error         |{round(error[0],3)}\\t\\t  |{round(error[1],3)}\\t\\t  |{round(error[2],3)}\\t  |')\n",
    "print('--------------|---------------|---------------|-----------|')"
   ],
   "metadata": {
    "collapsed": false
   }
  },
  {
   "cell_type": "code",
   "execution_count": 80,
   "outputs": [],
   "source": [
    "bfw_pre,bfw_rec = bfw_pre/4,bfw_rec/4\n",
    "bfs_pre,bfs_rec = bfs_pre/4,bfs_rec/4\n",
    "reso_pre,reso_rec = reso_pre/4,reso_rec/4"
   ],
   "metadata": {
    "collapsed": false
   }
  },
  {
   "cell_type": "code",
   "execution_count": 87,
   "outputs": [
    {
     "data": {
      "text/plain": "     Recall  Precision\n0  0.965959   0.933417\n1  0.568530   0.726271",
      "text/html": "<div>\n<style scoped>\n    .dataframe tbody tr th:only-of-type {\n        vertical-align: middle;\n    }\n\n    .dataframe tbody tr th {\n        vertical-align: top;\n    }\n\n    .dataframe thead th {\n        text-align: right;\n    }\n</style>\n<table border=\"1\" class=\"dataframe\">\n  <thead>\n    <tr style=\"text-align: right;\">\n      <th></th>\n      <th>Recall</th>\n      <th>Precision</th>\n    </tr>\n  </thead>\n  <tbody>\n    <tr>\n      <th>0</th>\n      <td>0.965959</td>\n      <td>0.933417</td>\n    </tr>\n    <tr>\n      <th>1</th>\n      <td>0.568530</td>\n      <td>0.726271</td>\n    </tr>\n  </tbody>\n</table>\n</div>"
     },
     "execution_count": 87,
     "metadata": {},
     "output_type": "execute_result"
    }
   ],
   "source": [
    "pd.DataFrame(np.vstack((bfw_pre,bfw_rec)).T,columns=[\"Recall\",\"Precision\"])"
   ],
   "metadata": {
    "collapsed": false
   }
  },
  {
   "cell_type": "code",
   "execution_count": 88,
   "outputs": [
    {
     "data": {
      "text/plain": "     Recall  Precision\n0  0.367572   0.594431\n1  0.922381   0.880666\n2  0.744856   0.773525\n3  0.827241   0.811758",
      "text/html": "<div>\n<style scoped>\n    .dataframe tbody tr th:only-of-type {\n        vertical-align: middle;\n    }\n\n    .dataframe tbody tr th {\n        vertical-align: top;\n    }\n\n    .dataframe thead th {\n        text-align: right;\n    }\n</style>\n<table border=\"1\" class=\"dataframe\">\n  <thead>\n    <tr style=\"text-align: right;\">\n      <th></th>\n      <th>Recall</th>\n      <th>Precision</th>\n    </tr>\n  </thead>\n  <tbody>\n    <tr>\n      <th>0</th>\n      <td>0.367572</td>\n      <td>0.594431</td>\n    </tr>\n    <tr>\n      <th>1</th>\n      <td>0.922381</td>\n      <td>0.880666</td>\n    </tr>\n    <tr>\n      <th>2</th>\n      <td>0.744856</td>\n      <td>0.773525</td>\n    </tr>\n    <tr>\n      <th>3</th>\n      <td>0.827241</td>\n      <td>0.811758</td>\n    </tr>\n  </tbody>\n</table>\n</div>"
     },
     "execution_count": 88,
     "metadata": {},
     "output_type": "execute_result"
    }
   ],
   "source": [
    "pd.DataFrame(np.vstack((bfs_pre,bfs_rec)).T,columns=[\"Recall\",\"Precision\"])"
   ],
   "metadata": {
    "collapsed": false
   }
  },
  {
   "cell_type": "code",
   "execution_count": 89,
   "outputs": [
    {
     "data": {
      "text/plain": "     Recall  Precision\n0  0.886087   0.818714\n1  0.685318   0.802408\n2  0.637067   0.499459\n3  0.691738   0.671829\n4  0.581525   0.637158\n5  0.694777   0.731104",
      "text/html": "<div>\n<style scoped>\n    .dataframe tbody tr th:only-of-type {\n        vertical-align: middle;\n    }\n\n    .dataframe tbody tr th {\n        vertical-align: top;\n    }\n\n    .dataframe thead th {\n        text-align: right;\n    }\n</style>\n<table border=\"1\" class=\"dataframe\">\n  <thead>\n    <tr style=\"text-align: right;\">\n      <th></th>\n      <th>Recall</th>\n      <th>Precision</th>\n    </tr>\n  </thead>\n  <tbody>\n    <tr>\n      <th>0</th>\n      <td>0.886087</td>\n      <td>0.818714</td>\n    </tr>\n    <tr>\n      <th>1</th>\n      <td>0.685318</td>\n      <td>0.802408</td>\n    </tr>\n    <tr>\n      <th>2</th>\n      <td>0.637067</td>\n      <td>0.499459</td>\n    </tr>\n    <tr>\n      <th>3</th>\n      <td>0.691738</td>\n      <td>0.671829</td>\n    </tr>\n    <tr>\n      <th>4</th>\n      <td>0.581525</td>\n      <td>0.637158</td>\n    </tr>\n    <tr>\n      <th>5</th>\n      <td>0.694777</td>\n      <td>0.731104</td>\n    </tr>\n  </tbody>\n</table>\n</div>"
     },
     "execution_count": 89,
     "metadata": {},
     "output_type": "execute_result"
    }
   ],
   "source": [
    "pd.DataFrame(np.vstack((reso_pre,reso_rec)).T,columns=[\"Recall\",\"Precision\"])"
   ],
   "metadata": {
    "collapsed": false
   }
  },
  {
   "cell_type": "code",
   "execution_count": null,
   "outputs": [],
   "source": [],
   "metadata": {
    "collapsed": false
   }
  }
 ],
 "metadata": {
  "kernelspec": {
   "name": "dip2022",
   "language": "python",
   "display_name": "dip2022"
  },
  "language_info": {
   "codemirror_mode": {
    "name": "ipython",
    "version": 2
   },
   "file_extension": ".py",
   "mimetype": "text/x-python",
   "name": "python",
   "nbconvert_exporter": "python",
   "pygments_lexer": "ipython2",
   "version": "2.7.6"
  }
 },
 "nbformat": 4,
 "nbformat_minor": 0
}
